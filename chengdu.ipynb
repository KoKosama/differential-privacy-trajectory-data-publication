{
 "cells": [
  {
   "cell_type": "code",
   "execution_count": 1,
   "metadata": {
    "collapsed": true
   },
   "outputs": [
    {
     "data": {
      "text/plain": "   taxi_id  week  y_n  time_id       lat1       long1  distance_interval  \\\n0        1     5    1      420  30.696945  104.079491           0.100000   \n1        1     5    1      420  30.696619  104.077637           0.180707   \n2        1     5    1      423  30.696844  104.079178           0.149278   \n3        1     5    1      425  30.703438  104.093239           1.531119   \n4        1     5    1      425  30.705505  104.094460           0.257891   \n\n   data_time_sec  \n0          25220  \n1          25250  \n2          25382  \n3          25505  \n4          25537  ",
      "text/html": "<div>\n<style scoped>\n    .dataframe tbody tr th:only-of-type {\n        vertical-align: middle;\n    }\n\n    .dataframe tbody tr th {\n        vertical-align: top;\n    }\n\n    .dataframe thead th {\n        text-align: right;\n    }\n</style>\n<table border=\"1\" class=\"dataframe\">\n  <thead>\n    <tr style=\"text-align: right;\">\n      <th></th>\n      <th>taxi_id</th>\n      <th>week</th>\n      <th>y_n</th>\n      <th>time_id</th>\n      <th>lat1</th>\n      <th>long1</th>\n      <th>distance_interval</th>\n      <th>data_time_sec</th>\n    </tr>\n  </thead>\n  <tbody>\n    <tr>\n      <th>0</th>\n      <td>1</td>\n      <td>5</td>\n      <td>1</td>\n      <td>420</td>\n      <td>30.696945</td>\n      <td>104.079491</td>\n      <td>0.100000</td>\n      <td>25220</td>\n    </tr>\n    <tr>\n      <th>1</th>\n      <td>1</td>\n      <td>5</td>\n      <td>1</td>\n      <td>420</td>\n      <td>30.696619</td>\n      <td>104.077637</td>\n      <td>0.180707</td>\n      <td>25250</td>\n    </tr>\n    <tr>\n      <th>2</th>\n      <td>1</td>\n      <td>5</td>\n      <td>1</td>\n      <td>423</td>\n      <td>30.696844</td>\n      <td>104.079178</td>\n      <td>0.149278</td>\n      <td>25382</td>\n    </tr>\n    <tr>\n      <th>3</th>\n      <td>1</td>\n      <td>5</td>\n      <td>1</td>\n      <td>425</td>\n      <td>30.703438</td>\n      <td>104.093239</td>\n      <td>1.531119</td>\n      <td>25505</td>\n    </tr>\n    <tr>\n      <th>4</th>\n      <td>1</td>\n      <td>5</td>\n      <td>1</td>\n      <td>425</td>\n      <td>30.705505</td>\n      <td>104.094460</td>\n      <td>0.257891</td>\n      <td>25537</td>\n    </tr>\n  </tbody>\n</table>\n</div>"
     },
     "execution_count": 1,
     "metadata": {},
     "output_type": "execute_result"
    }
   ],
   "source": [
    "import pandas as pd\n",
    "import numpy as  np\n",
    "\n",
    "## 导入数据 ## 查看数据 ##\n",
    "f = open('E:/PyCharm/PycharmProjects/TTE/csvafterfilter2/10120830afterfilter2.csv')\n",
    "df_test = pd.read_csv(f, dtype = {'taxi_id' : np.uint16, 'week' :np.int8, 'y_n' : np.uint8, 'lat1' : np.float32, 'long1' : np.float32, 'distance_interval' : np.float64, 'data_time_sec' : np.uint32, 'time_id' : np.uint})\n",
    "df_test.head()\n"
   ]
  },
  {
   "cell_type": "code",
   "execution_count": 2,
   "outputs": [],
   "source": [
    "del df_test['week']\n",
    "del df_test['y_n']\n",
    "del df_test['distance_interval']\n",
    "del df_test['time_id']"
   ],
   "metadata": {
    "collapsed": false,
    "pycharm": {
     "name": "#%%\n"
    }
   }
  },
  {
   "cell_type": "code",
   "execution_count": 3,
   "outputs": [
    {
     "data": {
      "text/plain": "   taxi_id       lat1       long1  data_time_sec\n0        1  30.696945  104.079491          25220\n1        1  30.696619  104.077637          25250\n2        1  30.696844  104.079178          25382\n3        1  30.703438  104.093239          25505\n4        1  30.705505  104.094460          25537",
      "text/html": "<div>\n<style scoped>\n    .dataframe tbody tr th:only-of-type {\n        vertical-align: middle;\n    }\n\n    .dataframe tbody tr th {\n        vertical-align: top;\n    }\n\n    .dataframe thead th {\n        text-align: right;\n    }\n</style>\n<table border=\"1\" class=\"dataframe\">\n  <thead>\n    <tr style=\"text-align: right;\">\n      <th></th>\n      <th>taxi_id</th>\n      <th>lat1</th>\n      <th>long1</th>\n      <th>data_time_sec</th>\n    </tr>\n  </thead>\n  <tbody>\n    <tr>\n      <th>0</th>\n      <td>1</td>\n      <td>30.696945</td>\n      <td>104.079491</td>\n      <td>25220</td>\n    </tr>\n    <tr>\n      <th>1</th>\n      <td>1</td>\n      <td>30.696619</td>\n      <td>104.077637</td>\n      <td>25250</td>\n    </tr>\n    <tr>\n      <th>2</th>\n      <td>1</td>\n      <td>30.696844</td>\n      <td>104.079178</td>\n      <td>25382</td>\n    </tr>\n    <tr>\n      <th>3</th>\n      <td>1</td>\n      <td>30.703438</td>\n      <td>104.093239</td>\n      <td>25505</td>\n    </tr>\n    <tr>\n      <th>4</th>\n      <td>1</td>\n      <td>30.705505</td>\n      <td>104.094460</td>\n      <td>25537</td>\n    </tr>\n  </tbody>\n</table>\n</div>"
     },
     "execution_count": 3,
     "metadata": {},
     "output_type": "execute_result"
    }
   ],
   "source": [
    "df_test.head()"
   ],
   "metadata": {
    "collapsed": false,
    "pycharm": {
     "name": "#%%\n"
    }
   }
  },
  {
   "cell_type": "code",
   "execution_count": 13,
   "outputs": [
    {
     "name": "stdout",
     "output_type": "stream",
     "text": [
      "[[[  0.           0.          30.65439796 104.01734161]\n",
      "  [  0.           1.          30.65457726 104.01580811]\n",
      "  [  0.           2.          30.65478516 104.01577759]\n",
      "  ...\n",
      "  [  0.          17.          30.65318871 103.9937439 ]\n",
      "  [  0.          18.          30.65350342 103.9936676 ]\n",
      "  [  0.          19.          30.65353394 103.9936676 ]]\n",
      "\n",
      " [[  1.           0.          30.63285828 104.03413391]\n",
      "  [  1.           1.          30.63271523 104.03430939]\n",
      "  [  1.           2.          30.63244247 104.03462219]\n",
      "  ...\n",
      "  [  1.          17.          30.62298012 104.05349731]\n",
      "  [  1.          18.          30.62252617 104.05491638]\n",
      "  [  1.          19.          30.62233925 104.05638123]]\n",
      "\n",
      " [[  2.           0.          30.63846397 104.12551117]\n",
      "  [  2.           1.          30.63848114 104.1255722 ]\n",
      "  [  2.           2.          30.63861084 104.1256485 ]\n",
      "  ...\n",
      "  [  2.          17.          30.63133049 104.14310455]\n",
      "  [  2.          18.          30.63043594 104.14544678]\n",
      "  [  2.          19.          30.63049507 104.14550781]]\n",
      "\n",
      " ...\n",
      "\n",
      " [[997.           0.          30.68951225 104.06056213]\n",
      "  [997.           1.          30.68963242 104.06052399]\n",
      "  [997.           2.          30.68970871 104.06047058]\n",
      "  ...\n",
      "  [997.          17.          30.68746948 104.05237579]\n",
      "  [997.          18.          30.68718719 104.05113983]\n",
      "  [997.          19.          30.68693733 104.0499115 ]]\n",
      "\n",
      " [[998.           0.          30.57863617 104.01834106]\n",
      "  [998.           1.          30.57779694 104.01732635]\n",
      "  [998.           2.          30.57738876 104.01670837]\n",
      "  ...\n",
      "  [998.          17.          30.56971741 104.00700378]\n",
      "  [998.          18.          30.56971359 104.00696564]\n",
      "  [998.          19.          30.56971169 104.00693512]]\n",
      "\n",
      " [[999.           0.          30.66930771 104.10942841]\n",
      "  [999.           1.          30.66750717 104.10988617]\n",
      "  [999.           2.          30.666399   104.11023712]\n",
      "  ...\n",
      "  [999.          17.          30.65833473 104.11226654]\n",
      "  [999.          18.          30.65703583 104.11225128]\n",
      "  [999.          19.          30.65579796 104.11234283]]]\n"
     ]
    }
   ],
   "source": [
    "df = df_test.values\n",
    "romas = np.zeros(shape=(1000,10,4))\n",
    "dfshape = 19513351 - 10\n",
    "for i in range(1000):\n",
    "    k=np.random.randint(0, high=dfshape, size=None, dtype='l')\n",
    "    for j in range(k, k+10):\n",
    "        romas[i][j-k] = df[j]\n",
    "        romas[i][j-k][3] = df[j][2]\n",
    "        romas[i][j-k][2] = df[j][1]\n",
    "        romas[i][j-k][0] = i\n",
    "        romas[i][j-k][1] = j-k\n",
    "        # if df[j+1][0]!=df[j][0]:\n",
    "\n",
    "print(romas)"
   ],
   "metadata": {
    "collapsed": false,
    "pycharm": {
     "name": "#%%\n"
    }
   }
  },
  {
   "cell_type": "code",
   "execution_count": 1,
   "outputs": [],
   "source": [
    "import pandas as pd\n",
    "import numpy as np\n",
    "from sklearn.cluster import KMeans\n",
    "from collections import Counter\n",
    "from numpy import *\n",
    "import random\n",
    "from sklearn.isotonic import IsotonicRegression\n",
    "from sklearn import metrics\n",
    "from hausdorff import hausdorff_distance\n",
    "import pywt\n",
    "import math\n",
    "import copy\n",
    "\n",
    "import warnings\n",
    "warnings.filterwarnings(\"ignore\")\n",
    "\n",
    "\n"
   ],
   "metadata": {
    "collapsed": false,
    "pycharm": {
     "name": "#%%\n"
    }
   }
  },
  {
   "cell_type": "code",
   "execution_count": 3,
   "outputs": [
    {
     "name": "stdout",
     "output_type": "stream",
     "text": [
      "[[[  0.           0.          30.66233444 104.05833435]\n",
      "  [  0.           1.          30.66239929 104.05832672]\n",
      "  [  0.           2.          30.66339874 104.05825043]\n",
      "  ...\n",
      "  [  0.           7.          30.66440582 104.05819702]\n",
      "  [  0.           8.          30.66495514 104.05815125]\n",
      "  [  0.           9.          30.66502953 104.05815125]]\n",
      "\n",
      " [[  1.           0.          30.64990616 104.0918045 ]\n",
      "  [  1.           1.          30.64990044 104.09178162]\n",
      "  [  1.           2.          30.64945984 104.09151459]\n",
      "  ...\n",
      "  [  1.           7.          30.648592   104.09117889]\n",
      "  [  1.           8.          30.64859962 104.09117126]\n",
      "  [  1.           9.          30.64860535 104.09116364]]\n",
      "\n",
      " [[  2.           0.          30.60554504 104.09879303]\n",
      "  [  2.           1.          30.60555458 104.09879303]\n",
      "  [  2.           2.          30.60555077 104.09879303]\n",
      "  ...\n",
      "  [  2.           7.          30.60556221 104.09880829]\n",
      "  [  2.           8.          30.60555077 104.09881592]\n",
      "  [  2.           9.          30.60554314 104.09881592]]\n",
      "\n",
      " ...\n",
      "\n",
      " [[997.           0.          30.6600399  104.09753418]\n",
      "  [997.           1.          30.6597538  104.09790039]\n",
      "  [997.           2.          30.65812683 104.09690094]\n",
      "  ...\n",
      "  [997.           7.          30.65283775 104.09362793]\n",
      "  [997.           8.          30.65242958 104.09355927]\n",
      "  [997.           9.          30.65194511 104.09429169]]\n",
      "\n",
      " [[998.           0.          30.65221786 104.09377289]\n",
      "  [998.           1.          30.65221596 104.09376526]\n",
      "  [998.           2.          30.65221405 104.09376526]\n",
      "  ...\n",
      "  [998.           7.          30.65169716 104.09299469]\n",
      "  [998.           8.          30.65105247 104.09259796]\n",
      "  [998.           9.          30.65028954 104.09216309]]\n",
      "\n",
      " [[999.           0.          30.64994621 103.9800415 ]\n",
      "  [999.           1.          30.65059853 103.98033905]\n",
      "  [999.           2.          30.65116501 103.98001862]\n",
      "  ...\n",
      "  [999.           7.          30.65328407 103.97589874]\n",
      "  [999.           8.          30.65330505 103.97589111]\n",
      "  [999.           9.          30.65330887 103.9758606 ]]]\n"
     ]
    }
   ],
   "source": [
    "f = open('E:/PyCharm/PycharmProjects/TTE/csvafterfilter2/20140830afterfilter2.csv')\n",
    "df_test = pd.read_csv(f, dtype = {'taxi_id' : np.uint16, 'week' :np.int8, 'y_n' : np.uint8, 'lat1' : np.float32, 'long1' : np.float32, 'distance_interval' : np.float64, 'data_time_sec' : np.uint32, 'time_id' : np.uint})\n",
    "del df_test['week']\n",
    "del df_test['y_n']\n",
    "del df_test['distance_interval']\n",
    "del df_test['time_id']\n",
    "df = df_test.values\n",
    "romas = np.zeros(shape=(1000, 10, 4))\n",
    "dfshape = 19513351 - 10\n",
    "for i in range(1000):\n",
    "    k = np.random.randint(0, high=dfshape, size=None, dtype='l')\n",
    "    for j in range(k, k + 10):\n",
    "        romas[i][j - k] = df[j]\n",
    "        romas[i][j - k][3] = df[j][2]\n",
    "        romas[i][j - k][2] = df[j][1]\n",
    "        romas[i][j - k][0] = i\n",
    "        romas[i][j - k][1] = j - k\n",
    "print(romas)"
   ],
   "metadata": {
    "collapsed": false,
    "pycharm": {
     "name": "#%%\n"
    }
   }
  },
  {
   "cell_type": "code",
   "execution_count": 4,
   "outputs": [
    {
     "name": "stdout",
     "output_type": "stream",
     "text": [
      "[[6 0 3 ... 6 1 3]\n",
      " [6 0 3 ... 6 1 3]\n",
      " [5 9 5 ... 4 4 2]\n",
      " ...\n",
      " [6 3 3 ... 6 1 3]\n",
      " [6 0 3 ... 6 1 3]\n",
      " [9 6 2 ... 9 5 7]]\n",
      "[[ 30.69511932 104.09929895  30.64406706 104.07690971  30.69406649\n",
      "  104.09683793  30.57808284 103.97007815  30.68347598 103.9893378\n",
      "   30.6835178  103.98894033  30.64785412 104.0259109   30.68423449\n",
      "  104.10326105  30.86884356 103.82114029  30.68564816 104.10273902]\n",
      " [ 30.59853521 104.05984875  30.70069857 104.05075923  30.58263964\n",
      "  104.05904587  30.64720802 104.02803467  30.64647807 104.07594251\n",
      "   30.62529322 104.12133842  30.68430831 104.10356019  30.64675937\n",
      "  104.02863428  30.64719081 104.07381854  30.64840503 104.02530359]\n",
      " [ 30.64571866 104.02708834  30.64833451 104.02803684  30.6648239\n",
      "  103.99646471  30.69604225 104.3404541   30.57818806 103.96985595\n",
      "   30.64750331 104.02702129  30.646427   104.07417842  30.70223861\n",
      "  104.05048875  30.57946344 103.96950935  30.62508834 104.11947049]\n",
      " [ 30.57728428 103.97497304  30.68435394 104.10487447  30.6587681\n",
      "  104.07481297  30.89500491 103.78877767  30.64711831 104.02747174\n",
      "   30.70180638 104.05184139  30.57821169 103.96988273  30.58037406\n",
      "  103.96892293  30.70273967 104.05034515  30.64649686 104.07283435]\n",
      " [ 30.89574178 103.78395081  30.57945232 103.96947845  30.57802998\n",
      "  103.97184677  30.68444481 104.10506521  30.70076841 104.05264344\n",
      "   30.59698197 104.05815045  30.93549252 103.74999237  30.62252032\n",
      "  104.12208743  30.62517853 104.12013046  30.86991787 103.82008171]\n",
      " [ 30.62714605 104.12023627  30.58582094 104.0530015   30.62948885\n",
      "  104.11882217  30.58657827 104.05466753  30.86733675 103.82164574\n",
      "   30.67040253 104.36457253  30.69567642 104.33865051  30.58366501\n",
      "  104.05351773  30.68094883 103.98826015  30.57947052 103.96859406]\n",
      " [ 30.65375198 104.07685478  30.68580651 103.98498128  30.93881416\n",
      "  103.74108505  30.70085485 104.05221747  30.62212773 104.12450147\n",
      "   30.86745453 103.82242966  30.68691633 103.98520678  30.64602907\n",
      "  104.07456746  30.58502646 104.05457644  30.68872452 104.31820933]\n",
      " [ 30.69694672 104.34162598  30.93938541 103.7390976   30.69616737\n",
      "  104.34078522  30.68465634 103.98867647  30.69587135 104.33985901\n",
      "   30.68907718 104.10690237  30.7025678  104.05080135  30.69540825\n",
      "  104.33805695  30.67041302 104.36394882  30.68316893 103.98697402]\n",
      " [ 30.69720116 104.04010189  30.69642448 104.34108429  30.70960989\n",
      "  104.02587839  30.64524028 104.07671706  30.58776558 104.05520248\n",
      "   30.57597201 103.97304315  30.62265055 104.12188071  30.86808443\n",
      "  103.82223511  30.68747058 104.1043079   30.58513599 104.0541088 ]\n",
      " [ 30.68353208 103.98461678  30.62240419 104.12689764  30.63589211\n",
      "  104.04487654  30.62224672 104.1264417   30.6844183  104.10562555\n",
      "   30.65131917 104.07666849  30.58499175 104.0547859   30.68087758\n",
      "  103.98907576  30.64715268 104.0276395   30.70248672 104.05078253]]\n"
     ]
    }
   ],
   "source": [
    "a = romas\n",
    "n = 10\n",
    "labels = np.zeros(shape=(1000, 10))\n",
    "labels.dtype = 'int64'\n",
    "cluster_centers = np.zeros(shape=(n, 20))\n",
    "for i in range(10):\n",
    "    # print(i)\n",
    "    clf = KMeans(n_clusters=n, random_state=9)\n",
    "    y_pred = clf.fit_predict(a[:, i, 2:4])\n",
    "    labels[:, i] = clf.labels_\n",
    "    cluster_centers[:, 2 * i:(2 * i + 2)] = clf.cluster_centers_\n",
    "print(labels)\n",
    "np.savetxt('E:\\PyCharm\\PycharmProjects\\differential-privacy-trajectory-data-publication\\labels.csv', labels, delimiter = ',')\n",
    "print(cluster_centers)\n",
    "np.savetxt('E:\\PyCharm\\PycharmProjects\\differential-privacy-trajectory-data-publication\\cluster_centers.csv', cluster_centers, delimiter = ',')\n"
   ],
   "metadata": {
    "collapsed": false,
    "pycharm": {
     "name": "#%%\n"
    }
   }
  },
  {
   "cell_type": "code",
   "execution_count": 5,
   "outputs": [
    {
     "name": "stdout",
     "output_type": "stream",
     "text": [
      "[[ 30.65375198 104.07685478  30.64406706 ... 104.07381854  30.64649686\n",
      "  104.07283435]\n",
      " [ 30.65375198 104.07685478  30.64406706 ... 104.07381854  30.64649686\n",
      "  104.07283435]\n",
      " [ 30.62714605 104.12023627  30.62240419 ... 104.12013046  30.62508834\n",
      "  104.11947049]\n",
      " ...\n",
      " [ 30.65375198 104.07685478  30.68435394 ... 104.07381854  30.64649686\n",
      "  104.07283435]\n",
      " [ 30.65375198 104.07685478  30.64406706 ... 104.07381854  30.64649686\n",
      "  104.07283435]\n",
      " [ 30.68353208 103.98461678  30.68580651 ... 103.98826015  30.68316893\n",
      "  103.98697402]]\n"
     ]
    }
   ],
   "source": [
    "detailedpath = np.zeros(shape=(1000,20))\n",
    "for i in range(1000):\n",
    "    for j in range(10):\n",
    "        x = labels[i,j]\n",
    "        detailedpath[i,2*j] = cluster_centers[x,2*j]\n",
    "        detailedpath[i,2*j+1] = cluster_centers[x,2*j+1]\n",
    "print(detailedpath)\n",
    "np.savetxt('E:\\PyCharm\\PycharmProjects\\differential-privacy-trajectory-data-publication\\detailedpath.csv', detailedpath, delimiter = ',')"
   ],
   "metadata": {
    "collapsed": false,
    "pycharm": {
     "name": "#%%\n"
    }
   }
  },
  {
   "cell_type": "code",
   "execution_count": 6,
   "outputs": [
    {
     "name": "stdout",
     "output_type": "stream",
     "text": [
      "{'L6L0L3L8L1L9L2L6L1L3': 138, 'L5L9L5L9L6L1L8L4L4L2': 83, 'L1L5L9L1L3L2L0L1L9L1': 2, 'L1L0L9L8L1L4L2L6L1L3': 18, 'L0L3L0L4L9L7L1L0L8L0': 102, 'L1L0L9L8L1L9L2L6L1L3': 6, 'L8L1L0L6L4L3L7L2L3L9': 8, 'L2L2L9L1L3L2L0L1L9L1': 78, 'L8L1L8L6L4L3L7L0L8L0': 1, 'L8L1L8L6L4L3L7L2L3L9': 59, 'L0L3L0L4L9L7L6L9L5L7': 1, 'L2L2L2L1L3L2L0L9L5L1': 4, 'L2L2L2L1L3L2L0L1L9L1': 40, 'L3L4L4L0L2L8L3L3L2L5': 46, 'L6L2L3L8L1L9L2L6L1L3': 2, 'L9L6L2L7L0L0L6L9L5L7': 57, 'L1L5L9L5L8L4L9L6L1L3': 1, 'L0L1L0L6L4L3L7L2L3L9': 23, 'L2L0L9L8L1L9L2L6L1L3': 2, 'L5L0L5L8L1L9L2L6L1L3': 6, 'L4L7L6L3L5L6L4L8L0L4': 2, 'L9L6L8L7L0L0L6L9L5L7': 19, 'L7L8L7L2L7L5L5L7L7L6': 4, 'L8L1L8L6L2L8L3L3L2L5': 1, 'L8L2L2L1L3L2L0L1L9L1': 3, 'L5L0L5L8L1L1L8L4L4L2': 5, 'L8L1L3L6L4L3L7L2L3L9': 14, 'L6L0L9L8L1L9L2L6L1L3': 19, 'L2L2L2L1L3L3L7L2L3L9': 1, 'L1L5L1L5L8L4L9L5L6L8': 55, 'L5L0L5L8L1L1L2L6L1L3': 2, 'L8L6L8L7L0L0L6L9L5L7': 4, 'L6L0L5L8L1L1L8L4L4L2': 1, 'L6L2L9L1L3L2L0L1L9L1': 1, 'L5L3L5L4L9L1L1L0L4L2': 6, 'L3L5L1L5L8L4L9L5L6L8': 1, 'L2L2L9L8L1L9L2L6L1L3': 1, 'L6L2L3L1L1L9L2L6L1L3': 1, 'L2L2L9L1L3L2L0L1L8L0': 1, 'L9L6L8L7L0L0L6L3L2L5': 1, 'L5L3L5L4L9L7L1L0L8L0': 3, 'L2L2L9L1L3L2L1L0L8L0': 1, 'L4L6L8L3L5L6L6L8L0L4': 1, 'L8L2L9L1L3L2L0L1L9L1': 5, 'L6L3L3L4L9L9L1L0L8L0': 5, 'L0L1L0L6L4L3L1L0L8L0': 2, 'L6L0L5L8L1L9L2L6L1L3': 4, 'L9L6L2L8L1L9L2L6L1L3': 2, 'L5L0L5L8L1L9L2L6L4L2': 2, 'L6L1L3L8L1L9L2L6L1L3': 3, 'L2L2L9L1L3L2L2L1L1L3': 1, 'L3L5L1L5L8L8L9L5L6L8': 2, 'L2L2L9L1L3L2L0L1L9L3': 4, 'L1L0L1L8L1L4L2L6L1L3': 2, 'L8L1L3L6L4L3L0L1L9L1': 1, 'L6L1L3L6L4L3L7L2L3L9': 6, 'L1L0L9L5L8L4L9L5L6L8': 1, 'L8L6L8L7L0L0L6L5L6L8': 1, 'L2L2L9L1L3L4L2L6L1L3': 2, 'L5L0L5L8L1L1L8L6L4L2': 1, 'L6L0L3L6L4L9L2L2L1L9': 1, 'L0L3L0L4L9L7L1L0L8L9': 1, 'L6L0L3L8L1L9L2L6L4L2': 1, 'L6L0L5L8L1L9L2L6L4L2': 3, 'L6L0L3L8L1L9L1L0L8L0': 2, 'L2L2L2L1L3L2L0L1L5L7': 1, 'L6L3L5L4L9L9L1L0L8L0': 1, 'L1L0L1L5L8L4L9L5L6L8': 2, 'L5L0L5L9L6L1L8L4L4L2': 2, 'L1L2L9L1L3L4L0L1L9L1': 1, 'L6L0L3L8L1L9L2L6L1L9': 1, 'L6L1L8L6L4L3L7L2L3L9': 1, 'L8L1L8L7L0L0L6L9L5L7': 2, 'L8L2L8L1L3L2L0L1L9L1': 2, 'L5L3L5L4L9L1L8L4L4L2': 1, 'L6L3L3L4L9L7L1L0L8L0': 5, 'L0L3L0L4L4L3L7L2L3L9': 1, 'L0L1L8L6L4L3L7L2L3L9': 3, 'L9L6L8L7L5L6L6L8L0L4': 1, 'L2L2L2L7L0L0L0L9L5L1': 2, 'L8L1L8L7L0L0L7L2L3L9': 2, 'L3L4L4L0L2L8L3L5L2L8': 1, 'L9L6L2L7L0L0L0L9L5L1': 2, 'L1L5L9L5L8L4L9L5L6L8': 7, 'L1L5L9L5L8L4L2L6L1L3': 1, 'L0L3L0L4L9L7L1L0L8L2': 1, 'L2L2L9L1L3L2L0L1L1L3': 2, 'L8L1L8L6L4L3L7L2L3L1': 2, 'L1L2L9L5L8L4L9L1L6L8': 1, 'L5L9L5L9L6L1L8L4L4L6': 1, 'L0L9L5L9L6L1L8L4L4L2': 2, 'L2L2L9L1L3L2L2L1L9L3': 2, 'L6L3L3L8L1L9L2L6L1L3': 2, 'L3L4L2L1L3L2L0L1L9L1': 1, 'L5L0L5L8L6L1L8L4L4L2': 4, 'L2L2L2L1L3L2L0L3L9L1': 1, 'L8L1L8L7L0L3L7L2L3L9': 1, 'L8L2L2L7L0L0L0L9L9L1': 1, 'L2L2L9L1L8L4L9L5L6L8': 1, 'L3L5L4L5L8L4L9L5L6L8': 1, 'L6L1L3L6L4L9L2L6L1L3': 3, 'L1L5L1L5L8L4L8L4L4L2': 2, 'L2L2L9L1L3L2L0L1L9L8': 1, 'L0L3L5L4L9L7L1L0L8L0': 2, 'L9L6L2L7L0L2L0L1L9L1': 1, 'L2L2L9L1L4L3L7L2L3L9': 1, 'L0L3L0L4L4L3L1L0L8L0': 1, 'L6L0L3L8L1L9L2L0L8L0': 1, 'L1L0L9L8L8L4L9L5L6L8': 1, 'L6L0L3L8L1L9L1L0L1L0': 2, 'L6L3L3L4L1L9L2L0L1L0': 1, 'L1L5L1L5L8L4L2L6L1L3': 1, 'L2L0L9L1L3L2L0L1L9L1': 1, 'L2L2L2L1L3L2L0L2L3L9': 1, 'L6L0L3L8L1L9L2L6L1L2': 1, 'L1L0L9L8L1L9L1L0L8L0': 1, 'L6L0L9L8L8L4L9L5L6L8': 1, 'L1L0L9L8L1L4L2L6L6L8': 1, 'L0L3L0L4L9L7L1L0L4L2': 1, 'L2L2L9L1L3L1L8L4L4L2': 1, 'L7L8L7L2L7L7L5L7L8L6': 1, 'L5L3L5L4L9L1L1L0L8L0': 1, 'L8L1L8L6L4L3L1L0L8L0': 1, 'L5L9L5L4L9L1L8L4L4L2': 1, 'L1L0L9L8L1L4L2L1L9L1': 1, 'L8L1L3L6L4L3L7L2L3L0': 1, 'L1L0L5L8L6L1L8L4L4L2': 1, 'L8L1L8L6L4L3L0L1L9L1': 1, 'L6L0L9L8L1L2L0L1L9L1': 1, 'L1L0L1L8L8L4L2L6L1L3': 1, 'L1L5L1L5L6L1L8L4L4L2': 1, 'L2L2L9L1L3L2L0L3L2L5': 1, 'L6L0L9L1L3L2L0L1L9L1': 1, 'L6L1L3L6L4L9L7L2L3L9': 1, 'L8L1L3L6L4L3L2L6L1L3': 1, 'L8L2L3L1L3L2L0L1L9L1': 2, 'L6L3L3L4L9L9L1L0L1L0': 2, 'L9L6L2L7L0L0L6L9L5L1': 1, 'L1L5L1L5L8L4L9L6L6L8': 1, 'L6L3L3L4L1L9L2L6L1L3': 1, 'L5L9L1L9L6L1L8L4L4L2': 1, 'L6L3L5L4L9L7L1L0L4L2': 1, 'L1L5L5L9L6L1L8L4L4L2': 1, 'L5L3L5L4L9L9L1L0L4L0': 1, 'L8L1L0L6L4L3L1L0L8L0': 1, 'L1L5L9L5L8L4L0L1L9L1': 2, 'L2L2L2L7L0L0L0L9L5L7': 1, 'L0L3L0L4L9L7L9L5L6L8': 1, 'L6L1L3L6L4L9L1L0L8L0': 1, 'L3L5L4L0L2L8L3L3L2L5': 1, 'L8L1L3L6L4L3L7L2L1L3': 1, 'L2L2L9L1L1L9L2L6L1L3': 1, 'L3L5L4L5L8L8L9L5L6L8': 1, 'L2L5L9L5L8L4L9L5L6L8': 1}\n"
     ]
    }
   ],
   "source": [
    "newpaths = []\n",
    "for i in range(1000):\n",
    "    newpath = \"\"\n",
    "    for j in range(10):\n",
    "        string = \"L\" + str(labels[i, j])\n",
    "        newpath += string\n",
    "    newpaths.append(newpath)\n",
    "result = Counter(newpaths)\n",
    "newpathsdict = dict(result)\n",
    "print(newpathsdict)\n"
   ],
   "metadata": {
    "collapsed": false,
    "pycharm": {
     "name": "#%%\n"
    }
   }
  },
  {
   "cell_type": "code",
   "execution_count": 7,
   "outputs": [],
   "source": [
    "# 随机生成轨迹补足数量\n",
    "while (len(newpathsdict) < 1000):\n",
    "    key = \"\"\n",
    "    for i in range(10):\n",
    "        string = \"L\" + str(random.randint(0, n - 1))\n",
    "        key += string\n",
    "    newpathsdict.setdefault(key, 0)\n",
    "\n",
    "# 补齐2的n次方haar变换和重构\n",
    "values = list(newpathsdict.values())\n",
    "a = int(math.log(len(values), 2))\n",
    "for index in range(int(math.pow(2, a + 1)) - len(values)):\n",
    "    values.append(0)\n"
   ],
   "metadata": {
    "collapsed": false,
    "pycharm": {
     "name": "#%%\n"
    }
   }
  },
  {
   "cell_type": "code",
   "execution_count": 8,
   "outputs": [],
   "source": [
    "def list_sort_by_value(d):\n",
    "    items = d.items()\n",
    "    backitems = [[v[1], v[0]] for v in items]\n",
    "    backitems.sort(reverse=True)\n",
    "    return [backitems[i][1] for i in range(0, len(backitems))]\n",
    "\n",
    "# 构建haar树\n",
    "def haarWaveletTransform(data):\n",
    "    coeffs = pywt.dwt(data, 'haar')\n",
    "    # (cA, cD) : tuple   Approximation and detail coefficients.\n",
    "    cA, cD = coeffs\n",
    "    cA /= math.sqrt(2)\n",
    "    cD /= math.sqrt(2)\n",
    "    return cA,cD\n",
    "\n",
    "\n",
    "def buildHaarTreeList(data):\n",
    "    haarTreeList = []\n",
    "    while(len(data)>=2):\n",
    "        cA,cD = haarWaveletTransform(data)\n",
    "        cD = cD.tolist()\n",
    "        cD.reverse()\n",
    "        # print(cA, cD)\n",
    "        haarTreeList.extend(cD)\n",
    "        data = cA\n",
    "        if(len(data) == 1):\n",
    "            cA = cA.tolist()\n",
    "            cA.reverse()\n",
    "            haarTreeList.extend(cA)\n",
    "    haarTreeList.reverse()\n",
    "    return haarTreeList\n",
    "\n",
    "# 重建\n",
    "def rebuildHaarTreeList(list):\n",
    "    n = int(math.log(len(list), 2))\n",
    "    # print(n)\n",
    "    cA = list[0:1]\n",
    "    for i in range(n):\n",
    "        cD = list[int(math.pow(2,i)):int(math.pow(2,i+1))]\n",
    "        data = math.sqrt(2) * pywt.idwt(cA, cD, 'haar')\n",
    "        cA = data\n",
    "    return data\n",
    "\n",
    "# 添加噪声\n",
    "def addNoise(n, eps):\n",
    "    laplaceNoise = []\n",
    "    h = math.log(n, 2)\n",
    "    i=0\n",
    "    while(i<n):\n",
    "        if(i==0):\n",
    "            layernumber = 0\n",
    "        else:\n",
    "            layernumber = int(math.log(i, 2))\n",
    "        noise = np.random.laplace(0, (1+h)/ (eps * int(math.pow(2, h - layernumber))))\n",
    "        laplaceNoise.append(noise)\n",
    "        i = i+1\n",
    "    return laplaceNoise\n",
    "\n"
   ],
   "metadata": {
    "collapsed": false,
    "pycharm": {
     "name": "#%%\n"
    }
   }
  },
  {
   "cell_type": "code",
   "execution_count": 9,
   "outputs": [
    {
     "name": "stdout",
     "output_type": "stream",
     "text": [
      "[ 1.34733921e+02  8.22439272e+01  1.02328334e+01 ... -3.90891096e-01\n",
      " -1.29772935e+00 -1.29419504e-02]\n"
     ]
    }
   ],
   "source": [
    "temp = buildHaarTreeList(values)\n",
    "# print(len(temp))\n",
    "noise = addNoise(len(temp), e)\n",
    "c = [temp[i] + noise[i] for i in range(len(temp))]\n",
    "noisecounts = rebuildHaarTreeList(c)\n",
    "print(noisecounts)"
   ],
   "metadata": {
    "collapsed": false,
    "pycharm": {
     "name": "#%%\n"
    }
   }
  },
  {
   "cell_type": "code",
   "execution_count": 10,
   "outputs": [
    {
     "name": "stdout",
     "output_type": "stream",
     "text": [
      "['L6L0L3L8L1L9L2L6L1L3', 'L0L3L0L4L9L7L1L0L8L0', 'L2L2L9L1L3L2L0L1L9L1', 'L5L9L5L9L6L1L8L4L4L2', 'L9L6L2L7L0L0L6L9L5L7', 'L8L1L8L6L4L3L7L2L3L9', 'L1L5L1L5L8L4L9L5L6L8', 'L3L4L4L0L2L8L3L3L2L5', 'L2L2L2L1L3L2L0L1L9L1', 'L0L1L0L6L4L3L7L2L3L9', 'L9L6L8L7L0L0L6L9L5L7', 'L6L0L9L8L1L9L2L6L1L3', 'L8L1L3L6L4L3L7L2L3L9', 'L1L0L9L8L1L4L2L6L1L3', 'L3L2L8L3L9L6L0L6L2L0', 'L0L1L0L6L4L3L1L0L8L0', 'L3L4L2L9L7L0L1L9L8L5', 'L7L8L7L2L7L5L5L7L7L6', 'L9L4L9L5L2L6L7L9L5L4', 'L5L0L1L3L4L9L0L2L4L9', 'L1L5L9L1L3L2L0L1L9L1', 'L6L2L3L1L1L9L2L6L1L3', 'L2L2L2L7L0L0L0L9L5L7', 'L9L6L2L7L0L0L6L9L5L1', 'L2L8L8L1L2L3L4L7L2L5', 'L8L1L8L6L4L3L7L0L8L0', 'L7L1L4L5L9L3L5L3L7L4', 'L2L1L8L3L6L6L6L2L9L8', 'L5L2L5L7L9L6L7L6L2L7', 'L6L8L8L9L5L0L8L2L1L7', 'L0L5L1L8L2L6L7L6L3L3', 'L7L3L5L9L4L1L0L0L5L3', 'L4L8L2L4L1L4L9L2L6L1', 'L8L1L0L6L4L3L7L2L3L9', 'L2L1L0L8L1L5L3L6L2L0', 'L2L2L9L1L3L2L0L1L1L3', 'L3L8L1L1L4L1L1L9L1L9', 'L2L2L5L8L9L8L3L9L8L6', 'L5L6L7L2L9L5L8L9L0L1', 'L2L3L0L9L8L2L0L0L2L0', 'L2L2L9L1L3L2L0L1L9L3', 'L7L8L7L2L7L7L5L7L8L6', 'L8L3L3L5L1L8L1L8L3L9', 'L6L2L9L1L3L2L0L1L9L1', 'L1L6L3L8L3L4L4L5L0L7', 'L4L7L0L7L0L2L0L9L9L6', 'L0L5L0L0L7L1L9L6L5L3', 'L0L4L3L0L7L8L3L0L4L7', 'L2L9L3L9L8L4L1L9L1L8', 'L8L6L8L7L0L0L6L9L5L7', 'L7L4L4L6L3L6L7L0L0L1', 'L6L1L3L6L4L3L7L2L3L9', 'L3L9L8L4L7L8L5L2L1L8', 'L4L1L1L1L8L9L9L1L5L4', 'L1L5L9L5L8L4L9L5L6L8', 'L4L8L4L3L5L7L1L7L0L6', 'L6L0L3L8L1L9L2L6L1L9', 'L1L7L4L4L1L5L2L3L6L6', 'L7L1L4L6L3L6L4L9L8L0', 'L3L5L4L5L8L4L9L5L6L8', 'L3L8L6L7L8L4L3L9L3L0', 'L6L3L3L4L9L7L1L0L8L0', 'L8L9L7L9L7L3L8L0L2L4', 'L2L5L5L3L3L5L8L5L7L5', 'L9L7L8L0L2L8L6L2L9L1', 'L0L0L5L0L3L3L1L1L6L7', 'L0L0L0L0L8L4L1L1L2L6', 'L0L8L1L9L0L5L8L5L1L5', 'L0L9L5L8L2L9L6L1L9L7', 'L2L0L6L3L3L4L1L0L8L6', 'L0L7L6L5L4L2L6L2L2L0', 'L6L0L2L4L1L6L9L9L8L1', 'L8L4L7L8L3L8L0L0L9L2', 'L6L8L2L3L8L6L8L6L9L4', 'L2L2L2L7L0L0L0L9L5L1', 'L4L5L5L2L3L6L8L7L3L7', 'L9L6L8L7L5L6L6L8L0L4', 'L8L1L3L6L4L3L7L2L3L0', 'L8L0L4L3L7L4L7L3L3L8', 'L2L3L5L8L7L4L7L5L0L2', 'L4L3L5L4L3L8L2L4L3L9', 'L5L4L1L5L6L0L2L8L5L4', 'L1L5L5L9L6L1L8L4L4L2', 'L3L5L7L0L7L8L7L3L2L4', 'L9L6L7L9L4L2L6L4L2L4', 'L4L7L8L4L9L4L9L6L8L0', 'L3L5L4L1L7L8L2L4L5L0', 'L5L3L5L4L9L7L1L0L8L0', 'L9L8L9L5L9L7L5L7L9L3', 'L1L3L9L3L1L1L0L5L3L5', 'L1L8L7L1L7L5L0L5L8L4', 'L5L0L5L8L6L1L8L4L4L2', 'L6L0L3L8L1L9L1L0L8L0', 'L8L5L6L2L3L5L8L0L0L7', 'L2L5L7L3L6L7L9L8L7L5', 'L1L4L4L9L0L8L8L7L0L6', 'L5L5L8L1L8L4L6L3L7L0', 'L5L0L5L8L1L9L2L6L1L3', 'L6L6L8L5L6L7L6L9L7L9', 'L0L6L9L6L4L8L7L3L1L2', 'L8L2L9L1L3L2L0L1L9L1', 'L9L3L8L3L7L3L1L4L0L7', 'L8L1L3L6L4L3L0L1L9L1', 'L3L4L3L2L6L5L5L5L8L9', 'L2L2L2L3L2L5L9L2L7L7', 'L6L8L1L8L7L1L5L8L2L9', 'L2L2L7L7L6L3L0L8L8L1', 'L6L1L3L6L4L9L1L0L8L0', 'L2L2L4L1L3L2L8L3L1L5', 'L6L0L9L8L8L4L9L5L6L8', 'L3L4L4L0L2L8L3L5L2L8', 'L5L8L4L2L6L2L4L4L8L1', 'L1L6L3L1L7L2L7L6L5L4', 'L8L0L2L0L2L2L1L7L3L4', 'L6L0L5L8L1L9L2L6L4L2', 'L4L3L3L9L1L0L3L7L7L8', 'L5L9L7L7L6L3L8L5L6L2', 'L6L0L3L6L4L9L2L2L1L9', 'L0L1L6L2L1L9L5L7L8L5', 'L0L3L5L4L9L7L1L0L8L0', 'L8L1L8L7L0L0L6L9L5L7', 'L8L8L1L9L4L6L0L5L5L0', 'L6L6L6L7L2L5L3L6L5L6', 'L0L2L3L5L2L6L3L3L4L6', 'L5L5L0L5L4L1L4L7L3L4', 'L8L6L8L7L0L0L6L5L6L8', 'L4L4L5L6L7L2L4L1L8L6', 'L8L9L8L6L0L7L9L0L0L6', 'L7L0L1L1L5L4L7L1L4L4', 'L7L5L1L5L4L3L9L5L3L4', 'L6L1L8L6L4L3L7L2L3L9', 'L5L0L1L2L0L9L7L5L7L8', 'L4L3L9L8L3L0L4L0L3L3', 'L1L4L3L7L9L7L9L1L3L4', 'L1L0L9L1L3L5L7L4L6L3', 'L4L6L9L8L6L8L2L5L7L9', 'L2L2L9L1L3L2L0L1L9L8', 'L7L9L7L3L2L8L9L9L7L9', 'L9L7L0L4L8L4L5L7L8L4', 'L6L6L5L7L0L7L3L6L3L8', 'L8L8L4L0L1L0L9L8L1L0', 'L8L5L9L4L4L7L7L9L1L9', 'L3L5L4L5L8L8L9L5L6L8', 'L6L0L5L8L1L9L2L6L1L3', 'L4L3L0L1L3L7L3L8L8L1', 'L7L0L0L7L3L6L1L2L6L1', 'L8L8L7L0L9L5L3L4L5L9', 'L0L2L6L7L2L2L7L7L0L8', 'L1L4L2L9L7L2L0L7L0L4', 'L6L0L9L1L3L2L0L1L9L1', 'L2L9L4L6L8L6L6L9L2L0', 'L8L1L0L1L5L2L9L2L8L9', 'L2L6L6L7L9L5L2L7L1L0', 'L6L3L0L4L1L3L6L4L2L7', 'L1L4L6L3L7L0L6L3L2L5', 'L3L6L6L1L8L6L1L5L6L3', 'L1L8L1L4L2L2L7L3L3L2', 'L3L9L7L8L1L2L1L3L5L1', 'L1L2L9L1L3L4L0L1L9L1', 'L6L0L6L4L2L8L5L3L2L1', 'L8L2L8L1L3L2L0L1L9L1', 'L1L0L5L8L6L1L8L4L4L2', 'L5L7L7L2L0L4L1L4L5L9', 'L6L4L7L1L1L7L4L7L2L0', 'L3L0L7L2L7L5L0L9L7L6', 'L2L2L2L1L3L2L0L9L5L1', 'L4L0L7L5L4L8L1L9L0L5', 'L5L3L5L4L9L1L1L0L4L2', 'L2L6L2L3L8L4L2L4L3L0', 'L3L7L9L5L7L0L0L5L3L1', 'L6L1L5L5L6L8L8L4L3L6', 'L0L5L0L3L6L0L0L5L1L4', 'L2L5L2L6L5L9L6L0L3L3', 'L1L0L1L8L1L4L2L6L1L3', 'L2L5L1L7L3L8L4L3L5L0', 'L0L2L3L0L9L0L3L4L5L9', 'L5L9L5L9L6L1L8L4L4L6', 'L7L0L6L3L0L1L5L2L4L2', 'L1L9L5L7L9L7L3L6L3L2', 'L0L8L8L2L5L5L8L9L3L3', 'L5L2L5L2L6L4L5L6L9L2', 'L0L8L0L6L3L5L2L2L5L0', 'L1L1L7L1L6L3L8L4L4L0', 'L5L0L5L8L1L1L8L4L4L2', 'L7L3L5L0L0L5L5L3L1L9', 'L1L7L5L9L7L4L0L4L8L4', 'L2L2L9L1L3L1L8L4L4L2', 'L8L1L5L8L8L3L1L2L7L3', 'L9L2L1L2L9L8L4L4L0L4', 'L7L4L7L9L5L2L4L3L2L9', 'L8L8L7L5L8L9L9L7L4L6', 'L1L9L3L0L3L1L8L7L4L4', 'L4L2L8L2L6L1L8L3L8L6', 'L7L4L3L9L2L5L1L6L3L7', 'L7L8L0L4L4L0L4L7L8L7', 'L2L6L5L1L0L1L6L9L1L6', 'L2L6L8L0L2L2L9L3L0L9', 'L8L8L2L9L1L5L3L6L0L0', 'L2L6L8L1L1L8L5L1L2L1', 'L9L2L8L1L4L0L1L6L4L9', 'L5L5L0L1L1L3L8L7L4L4', 'L9L6L2L7L0L0L0L9L5L1', 'L7L1L6L4L3L9L2L0L5L8', 'L4L0L6L2L9L8L4L1L8L4', 'L0L6L1L9L2L4L6L6L0L7', 'L6L8L0L6L4L0L9L5L3L4', 'L9L8L2L2L9L4L2L8L9L8', 'L4L1L1L5L5L1L5L7L2L9', 'L3L8L9L3L5L9L0L3L7L0', 'L7L0L8L4L9L8L8L5L2L2', 'L2L6L3L8L7L8L6L4L8L1', 'L9L0L9L4L2L5L3L0L2L6', 'L5L6L7L4L2L6L8L1L2L6', 'L1L9L0L6L1L7L4L4L1L4', 'L3L2L9L9L7L0L8L3L4L7', 'L2L4L2L0L7L4L6L7L3L8', 'L3L3L3L3L7L4L7L9L3L6', 'L3L9L9L9L3L0L6L6L4L0', 'L2L3L5L2L3L1L5L3L0L2', 'L5L6L5L2L9L3L6L9L5L5', 'L4L9L5L7L8L6L8L6L0L5', 'L7L5L5L0L8L9L1L1L4L7', 'L0L2L3L1L1L6L0L6L0L4', 'L6L6L5L5L8L5L5L4L9L0', 'L5L0L5L8L1L1L2L6L1L3', 'L6L2L1L3L0L3L4L6L3L3', 'L2L7L7L8L3L9L3L2L9L7', 'L4L8L1L0L2L6L8L1L1L5', 'L6L4L0L7L4L7L2L0L2L3', 'L1L4L3L9L3L9L0L3L1L1', 'L1L5L1L5L8L4L8L4L4L2', 'L6L6L2L6L4L2L2L2L0L7', 'L0L4L3L3L9L0L3L4L1L6', 'L8L4L9L2L3L5L9L9L7L5', 'L7L1L5L2L9L1L5L7L6L8', 'L9L6L2L8L1L9L2L6L1L3', 'L8L4L1L5L0L8L7L5L4L5', 'L0L8L6L4L0L8L1L5L7L4', 'L5L6L8L1L3L8L0L6L6L9', 'L4L9L3L3L7L1L5L8L5L9', 'L9L2L3L9L9L5L9L2L3L9', 'L0L2L3L6L9L7L2L3L9L1', 'L5L0L5L2L6L8L9L3L2L5', 'L3L8L7L1L4L8L3L7L1L5', 'L6L3L2L5L7L1L5L3L6L0', 'L6L1L7L0L6L9L3L2L8L2', 'L4L0L9L0L2L3L5L9L9L9', 'L8L3L6L4L3L0L7L0L5L0', 'L0L6L0L4L4L2L4L7L2L1', 'L1L5L1L5L8L4L9L6L6L8', 'L7L6L4L4L3L5L1L8L2L0', 'L2L8L3L5L8L2L6L3L7L0', 'L8L2L5L4L9L8L8L2L6L4', 'L5L6L6L0L7L5L6L9L6L7', 'L9L1L8L2L2L9L0L3L3L1', 'L4L9L1L0L9L1L7L5L0L1', 'L4L9L6L2L6L6L3L4L9L2', 'L8L2L2L3L4L1L4L4L4L5', 'L1L7L6L6L6L8L1L4L7L4', 'L7L6L6L3L2L2L0L6L3L2', 'L2L1L3L8L8L1L2L7L6L6', 'L5L3L9L7L2L2L8L3L5L2', 'L1L0L9L8L1L9L2L6L1L3', 'L8L1L6L8L4L6L1L8L3L4', 'L5L4L9L6L8L8L7L0L2L0', 'L9L5L2L0L9L5L0L4L2L5', 'L4L0L5L7L4L6L4L3L2L3', 'L4L1L9L3L4L3L9L6L3L5', 'L3L9L3L8L1L1L4L5L2L9', 'L5L8L4L8L1L5L8L5L9L2', 'L1L5L6L3L6L3L7L1L5L2', 'L9L1L1L7L6L5L6L4L8L8', 'L2L5L5L5L6L4L4L1L4L9', 'L5L0L9L6L3L5L4L4L0L3', 'L5L5L1L2L7L8L2L0L8L2', 'L4L8L8L8L6L8L4L9L5L4', 'L5L0L5L9L6L1L8L4L4L2', 'L9L0L1L2L5L3L1L7L0L5', 'L6L8L8L8L2L6L2L0L3L0', 'L5L2L1L8L8L1L0L6L3L0', 'L1L3L4L6L2L7L3L0L0L4', 'L1L0L9L8L1L4L2L1L9L1', 'L3L6L6L3L3L2L3L3L0L6', 'L1L3L2L0L3L6L2L2L2L4', 'L0L6L1L7L4L1L4L9L9L0', 'L3L9L7L0L6L0L7L1L5L8', 'L8L8L6L6L9L1L3L7L4L7', 'L6L2L9L8L2L1L1L8L1L1', 'L1L1L8L5L3L1L1L9L0L4', 'L5L7L5L2L0L4L4L8L2L9', 'L5L2L8L6L8L5L8L1L0L2', 'L8L0L3L1L7L5L4L1L5L0', 'L2L1L7L6L6L7L7L5L3L0', 'L6L5L9L2L9L6L3L3L5L3', 'L9L1L7L7L1L4L1L1L6L8', 'L7L4L1L4L9L7L1L0L6L4', 'L4L5L6L6L6L1L0L5L1L2', 'L7L1L3L9L6L1L5L4L7L2', 'L7L6L4L0L6L6L6L2L9L1', 'L8L1L8L6L4L3L1L0L8L0', 'L2L8L8L5L0L4L7L0L4L0', 'L6L5L9L0L7L0L5L2L1L3', 'L1L0L3L9L0L9L7L4L7L6', 'L3L8L6L2L8L5L2L6L1L5', 'L7L7L5L9L1L0L3L7L5L8', 'L4L2L2L4L1L8L4L8L6L1', 'L9L1L7L5L3L7L9L6L9L9', 'L2L7L7L1L1L7L5L4L4L9', 'L8L5L1L3L0L7L9L9L3L4', 'L8L7L5L9L4L6L8L3L8L3', 'L6L0L3L8L1L9L2L0L8L0', 'L8L5L6L2L2L7L2L7L6L7', 'L7L8L8L2L9L6L8L8L4L6', 'L4L7L6L3L5L6L4L8L0L4', 'L8L1L0L0L8L0L7L6L2L9', 'L2L9L2L2L8L0L5L1L2L2', 'L8L1L3L6L4L3L2L6L1L3', 'L2L2L2L1L3L2L0L3L9L1', 'L5L0L7L8L1L2L0L4L7L1', 'L0L5L1L2L2L8L6L5L6L0', 'L6L1L3L8L1L9L2L6L1L3', 'L5L5L6L2L0L2L1L8L3L2', 'L9L3L0L8L9L7L6L8L8L6', 'L0L3L9L7L7L0L5L0L4L2', 'L3L3L6L3L5L2L1L2L0L4', 'L9L4L2L6L2L3L4L9L5L3', 'L6L8L0L1L8L7L9L2L1L7', 'L0L5L9L4L0L0L5L3L9L6', 'L8L4L3L2L1L7L0L6L0L1', 'L8L7L0L4L0L6L2L4L4L6', 'L0L1L8L6L4L3L7L2L3L9', 'L8L9L6L6L0L6L2L6L9L2', 'L9L7L4L6L5L2L4L5L1L1', 'L2L2L6L9L3L9L1L3L6L3', 'L8L1L8L7L0L0L7L2L3L9', 'L3L5L4L0L2L8L3L3L2L5', 'L0L9L6L5L7L2L8L8L4L9', 'L8L6L6L2L4L7L8L9L0L7', 'L2L1L8L3L0L7L0L6L5L5', 'L5L1L1L7L0L0L3L2L1L0', 'L9L4L7L9L8L7L0L7L9L6', 'L0L4L5L0L8L6L7L9L2L3', 'L5L2L3L5L2L5L5L7L0L9', 'L5L7L2L2L2L6L7L8L7L5', 'L1L5L1L5L6L1L8L4L4L2', 'L4L8L4L8L5L4L7L4L2L2', 'L3L8L8L1L2L0L2L8L7L8', 'L8L1L8L7L0L3L7L2L3L9', 'L2L7L5L8L1L1L7L0L0L3', 'L1L9L5L6L6L8L8L9L8L5', 'L2L7L8L9L4L8L5L8L1L5', 'L8L6L5L2L1L1L7L2L0L6', 'L5L6L5L3L7L1L1L8L4L2', 'L3L0L8L5L4L6L7L6L5L9', 'L3L5L5L2L4L3L0L3L0L3', 'L0L9L5L9L6L1L8L4L4L2', 'L2L0L9L1L3L2L0L1L9L1', 'L6L3L2L7L8L5L9L9L1L0', 'L0L2L9L7L0L1L9L2L9L3', 'L2L2L9L1L3L2L0L3L2L5', 'L8L8L7L4L0L8L5L2L8L1', 'L3L5L7L2L2L4L3L2L8L1', 'L3L7L2L9L6L7L6L0L9L2', 'L7L2L4L9L5L0L7L7L1L3', 'L5L6L1L0L7L9L0L1L1L2', 'L6L5L1L6L4L5L3L2L0L0', 'L0L5L8L9L7L0L5L9L0L3', 'L6L7L5L2L5L4L7L3L3L2', 'L2L2L1L6L7L2L9L4L6L6', 'L9L6L1L0L5L3L0L2L2L2', 'L8L7L5L4L6L7L6L0L7L9', 'L9L8L5L7L7L0L8L9L5L7', 'L2L7L4L8L6L7L3L9L4L5', 'L6L4L1L8L1L1L2L4L8L9', 'L2L9L7L6L6L6L2L3L8L3', 'L6L1L3L6L4L9L2L6L1L3', 'L5L5L1L5L8L4L2L6L3L7', 'L2L2L9L1L3L2L0L1L8L0', 'L4L5L6L8L2L4L5L2L7L2', 'L5L9L8L0L6L1L1L7L2L1', 'L5L9L2L2L1L7L7L5L2L5', 'L5L7L3L5L5L7L7L7L3L1', 'L6L8L0L8L9L5L1L7L4L4', 'L0L3L0L4L9L7L1L0L8L2', 'L8L3L1L5L4L0L0L4L4L5', 'L2L8L0L2L6L3L0L0L8L4', 'L4L0L8L1L4L3L4L9L8L6', 'L9L0L1L8L1L2L1L4L1L3', 'L6L6L8L5L3L9L8L0L9L7', 'L1L7L8L2L0L0L4L4L2L3', 'L7L8L0L3L4L0L0L1L1L6', 'L6L3L3L4L1L9L2L6L1L3', 'L6L0L2L3L8L2L7L5L2L6', 'L4L9L5L2L8L9L9L6L7L5', 'L3L4L1L0L3L1L2L3L0L3', 'L2L9L2L8L4L5L3L8L1L8', 'L0L8L9L6L9L4L9L3L4L4', 'L1L0L9L7L5L1L0L3L2L5', 'L9L6L9L7L2L8L4L1L8L9', 'L6L0L3L8L1L9L1L0L1L0', 'L7L9L8L5L2L5L4L6L7L3', 'L0L6L9L2L6L0L4L1L4L1', 'L7L1L4L4L7L6L3L1L3L8', 'L7L6L0L4L7L8L6L7L9L4', 'L5L8L7L0L0L1L6L9L2L3', 'L1L0L1L7L2L6L5L8L0L3', 'L8L4L6L6L1L0L6L1L6L5', 'L8L0L1L7L0L7L1L0L4L9', 'L7L3L3L6L0L0L0L4L7L5', 'L9L1L3L8L3L5L1L0L9L9', 'L3L8L6L2L6L1L2L9L8L0', 'L6L8L4L4L6L4L4L8L5L7', 'L2L1L0L2L4L9L4L0L2L5', 'L0L4L7L9L8L4L3L3L3L8', 'L5L6L6L8L5L5L5L0L1L6', 'L8L2L2L1L3L2L0L1L9L1', 'L9L4L8L5L2L2L9L1L2L6', 'L9L3L7L8L0L4L5L6L4L3', 'L3L5L1L5L8L8L9L5L6L8', 'L1L0L9L8L1L9L1L0L8L0', 'L0L6L5L8L8L0L3L7L1L8', 'L7L9L5L3L7L7L3L4L2L1', 'L9L9L0L7L0L7L6L1L4L5', 'L1L3L0L3L5L7L2L0L7L9', 'L0L2L8L4L2L2L9L4L8L8', 'L2L3L8L5L8L1L9L2L7L6', 'L6L0L2L4L6L0L4L3L0L2', 'L6L3L3L4L1L9L2L0L1L0', 'L1L3L4L2L3L4L0L4L5L5', 'L5L9L5L4L9L1L8L4L4L2', 'L1L9L9L6L0L5L2L7L1L6', 'L6L1L1L9L3L1L8L9L7L3', 'L6L3L5L4L9L9L1L0L8L0', 'L2L8L2L9L8L8L8L9L4L8', 'L3L0L0L0L6L7L1L7L5L1', 'L1L5L9L2L0L4L4L6L5L5', 'L6L1L7L9L0L8L6L3L4L4', 'L1L6L1L0L8L6L7L0L9L2', 'L2L2L2L1L3L2L0L2L3L9', 'L6L5L0L1L7L6L0L9L8L0', 'L4L5L2L6L2L2L3L7L5L9', 'L9L7L1L7L7L3L2L2L9L2', 'L2L1L5L6L8L3L1L4L5L9', 'L2L1L7L1L2L1L3L7L5L4', 'L1L7L5L3L6L2L1L1L1L5', 'L1L0L9L8L1L4L2L6L6L8', 'L5L8L2L7L2L5L4L2L3L6', 'L5L7L2L2L7L3L4L4L6L0', 'L7L0L1L2L2L8L3L8L6L5', 'L2L5L0L1L1L6L9L5L5L5', 'L1L5L1L5L8L4L2L6L1L3', 'L9L8L0L1L1L4L5L7L9L1', 'L1L0L1L8L8L4L2L6L1L3', 'L5L3L5L4L9L9L1L0L4L0', 'L3L9L3L5L4L8L4L4L5L2', 'L9L6L8L7L0L0L6L3L2L5', 'L8L6L8L1L3L4L7L1L8L1', 'L6L5L5L2L2L8L3L6L4L5', 'L2L9L7L0L3L7L1L9L1L4', 'L9L5L4L9L1L7L9L1L4L5', 'L3L4L3L7L9L4L7L4L4L9', 'L2L9L6L9L6L0L9L3L1L1', 'L5L4L3L3L1L8L5L4L3L0', 'L2L2L2L1L3L3L7L2L3L9', 'L0L9L9L5L2L4L5L7L5L2', 'L5L5L8L1L0L6L7L2L9L9', 'L4L9L5L7L3L8L6L0L1L2', 'L7L6L9L4L4L7L7L8L6L2', 'L9L6L8L6L6L0L8L0L6L0', 'L4L6L8L3L5L6L6L8L0L4', 'L4L5L5L7L4L6L9L0L7L4', 'L3L5L5L9L0L7L5L0L2L2', 'L6L9L7L1L8L3L1L2L2L9', 'L4L9L6L0L4L7L0L1L7L0', 'L4L0L3L2L3L1L8L9L4L8', 'L6L9L3L7L4L9L1L8L9L9', 'L2L2L0L5L8L8L4L9L9L4', 'L8L4L4L4L3L8L0L0L2L5', 'L3L2L5L7L7L6L6L8L1L5', 'L0L0L6L3L7L3L1L8L6L3', 'L8L0L7L1L9L1L4L8L8L0', 'L0L6L5L6L7L1L0L3L2L8', 'L4L0L9L8L6L2L6L5L5L0', 'L4L2L7L1L9L6L4L6L7L7', 'L3L5L2L7L5L5L2L8L0L8', 'L8L5L5L8L7L2L8L9L6L3', 'L7L1L1L9L1L2L7L8L4L7', 'L0L3L0L4L9L7L6L9L5L7', 'L3L5L6L5L7L2L2L4L5L6', 'L8L6L3L3L6L3L2L1L8L7', 'L0L8L4L4L5L3L1L3L2L7', 'L1L0L9L8L8L4L9L5L6L8', 'L7L5L8L4L4L2L1L8L8L2', 'L5L2L5L5L2L0L2L7L2L9', 'L9L7L0L4L5L3L6L0L3L9', 'L2L9L9L8L9L0L9L1L8L7', 'L3L9L4L4L0L7L9L7L0L4', 'L6L0L9L8L1L2L0L1L9L1', 'L5L9L3L6L1L8L5L3L6L0', 'L0L3L0L4L4L3L1L0L8L0', 'L6L4L3L3L7L3L9L1L5L7', 'L0L8L5L6L4L0L8L7L3L5', 'L5L5L6L7L6L0L1L7L9L4', 'L8L3L5L3L7L5L2L0L8L4', 'L0L5L8L6L9L7L7L7L6L3', 'L9L7L0L3L8L3L8L6L3L4', 'L4L9L4L1L2L3L3L7L7L4', 'L9L1L5L6L3L8L8L5L9L5', 'L9L1L4L2L4L5L2L4L3L6', 'L0L0L8L8L6L1L9L7L9L1', 'L5L3L6L5L7L2L7L7L1L0', 'L5L2L6L9L0L8L0L1L7L0', 'L6L7L9L5L5L8L4L6L0L7', 'L3L6L2L1L9L9L3L0L6L7', 'L6L7L7L2L5L0L7L1L4L2', 'L2L6L2L2L1L7L5L5L4L2', 'L0L1L9L4L1L9L1L3L1L8', 'L8L2L2L7L0L0L0L9L9L1', 'L3L5L1L5L8L4L9L5L6L8', 'L7L5L6L5L9L5L3L9L0L3', 'L4L5L7L3L4L2L0L5L7L5', 'L3L7L7L1L0L4L0L9L8L1', 'L7L9L6L4L8L3L5L6L0L6', 'L7L8L4L5L5L8L4L6L8L0', 'L0L2L9L9L0L7L7L3L6L0', 'L2L5L5L0L7L3L6L2L4L3', 'L5L1L4L0L4L5L1L7L1L3', 'L4L4L3L3L3L6L2L0L6L0', 'L3L2L4L6L4L8L7L3L3L6', 'L9L7L3L6L9L9L8L7L1L2', 'L6L4L7L2L8L4L0L8L9L6', 'L2L2L8L5L3L3L4L1L5L8', 'L5L5L2L8L4L2L9L4L7L6', 'L3L7L7L0L7L4L9L1L3L7', 'L1L3L8L9L4L5L7L9L2L1', 'L2L3L3L5L1L2L5L5L4L6', 'L5L9L8L4L4L4L9L4L2L1', 'L0L6L0L0L8L8L9L6L8L9', 'L2L2L9L1L3L4L2L6L1L3', 'L0L0L5L0L8L0L0L8L3L5', 'L4L1L2L7L5L5L2L4L1L3', 'L1L1L5L0L8L6L6L5L7L2', 'L4L0L5L5L2L8L8L2L7L1', 'L1L0L2L6L8L8L6L6L6L9', 'L4L4L1L5L4L6L2L1L5L0', 'L7L2L9L8L5L7L8L4L6L5', 'L0L5L9L9L9L4L2L9L4L4', 'L6L0L3L8L1L9L2L6L1L2', 'L5L0L5L8L1L9L2L6L4L2', 'L4L2L7L7L6L3L7L1L7L2', 'L5L7L3L7L3L2L4L5L7L8', 'L7L0L3L8L0L5L1L9L1L3', 'L6L0L5L8L1L1L8L4L4L2', 'L3L2L2L0L2L5L0L6L0L8', 'L4L1L7L8L1L4L4L4L0L4', 'L6L7L1L8L7L4L0L4L3L1', 'L1L2L9L5L8L4L9L1L6L8', 'L4L2L6L5L2L6L5L4L4L7', 'L2L0L7L4L2L7L6L7L8L2', 'L1L5L0L9L4L7L9L4L8L6', 'L1L0L6L7L2L8L5L4L2L8', 'L6L2L3L7L1L4L0L1L2L2', 'L7L9L5L7L0L1L3L6L7L7', 'L4L1L3L6L4L7L8L8L6L1', 'L2L9L6L1L9L4L1L0L7L6', 'L3L1L0L8L4L6L7L2L7L2', 'L5L5L4L8L5L6L1L1L8L2', 'L9L9L3L5L7L6L5L8L6L5', 'L8L4L1L8L7L6L8L6L4L8', 'L7L8L2L0L4L1L3L8L7L4', 'L6L9L9L4L7L2L8L3L3L2', 'L1L5L9L5L8L4L2L6L1L3', 'L2L4L0L1L6L8L2L7L1L4', 'L5L0L5L8L1L1L8L6L4L2', 'L4L0L2L6L4L2L1L3L0L4', 'L6L1L1L2L5L7L3L3L8L8', 'L3L6L0L3L2L4L4L9L9L3', 'L7L1L8L6L6L2L8L5L1L8', 'L2L5L9L6L4L1L1L5L8L3', 'L3L4L6L3L9L6L8L7L8L1', 'L3L2L6L1L8L4L2L2L7L0', 'L1L8L7L9L6L3L5L0L0L5', 'L1L2L7L5L1L1L8L7L4L8', 'L6L0L3L0L7L1L1L1L3L2', 'L7L2L6L2L0L9L4L9L0L4', 'L6L6L9L0L9L6L8L0L5L6', 'L8L4L1L1L6L7L4L6L7L3', 'L8L4L8L0L5L4L7L7L5L0', 'L2L4L0L1L6L7L0L2L1L0', 'L5L1L1L5L2L9L5L3L5L9', 'L6L3L3L8L1L9L2L6L1L3', 'L5L9L5L0L6L4L7L7L2L0', 'L2L5L9L5L8L4L9L5L6L8', 'L5L3L5L0L1L4L3L3L7L6', 'L8L2L3L1L3L2L0L1L9L1', 'L7L4L5L4L9L3L0L6L8L1', 'L6L9L9L2L8L8L1L3L0L9', 'L2L2L4L3L5L4L0L7L7L9', 'L8L4L0L1L2L0L9L9L8L1', 'L9L5L1L2L2L1L0L2L8L5', 'L4L1L9L5L9L1L6L0L8L7', 'L1L0L8L3L0L1L3L7L5L4', 'L5L4L1L3L6L0L8L3L4L5', 'L9L2L5L2L5L6L9L0L4L2', 'L3L7L2L6L0L4L3L7L1L6', 'L9L7L4L2L8L4L0L2L0L2', 'L7L3L9L0L0L6L1L5L2L7', 'L4L4L2L1L1L9L3L2L1L2', 'L4L0L7L1L3L0L0L9L6L1', 'L3L4L2L1L3L2L0L1L9L1', 'L5L1L5L9L1L6L3L8L8L0', 'L5L4L0L7L0L3L4L7L8L3', 'L0L5L9L7L5L6L2L6L0L6', 'L7L9L0L3L7L6L1L0L0L4', 'L3L8L9L9L2L5L7L8L2L1', 'L4L3L5L2L0L1L8L2L0L5', 'L9L0L9L1L8L3L6L4L0L1', 'L4L5L2L9L0L6L3L4L1L8', 'L0L3L0L4L9L7L1L0L4L2', 'L1L7L5L5L2L8L8L7L8L2', 'L8L4L5L2L5L3L9L1L4L0', 'L8L1L3L8L7L5L3L0L6L2', 'L7L7L9L0L5L4L3L3L9L0', 'L6L7L9L5L3L4L9L4L1L9', 'L5L1L2L6L9L4L8L3L9L3', 'L7L1L4L8L7L6L5L3L9L1', 'L5L7L6L7L9L2L6L9L8L2', 'L2L1L7L0L1L5L8L3L9L5', 'L3L5L1L2L2L6L0L2L6L7', 'L4L4L7L4L1L5L7L0L4L1', 'L5L0L5L1L7L3L8L3L0L7', 'L1L8L9L2L0L9L3L2L8L9', 'L1L7L6L4L4L4L6L2L8L0', 'L5L1L4L1L5L2L3L2L3L7', 'L3L0L3L5L9L1L2L7L8L7', 'L2L5L9L5L9L4L5L8L4L0', 'L6L1L4L2L3L6L6L4L5L5', 'L7L2L0L6L1L1L7L0L2L9', 'L8L1L3L6L4L3L7L2L1L3', 'L8L1L8L6L4L3L7L2L3L1', 'L0L4L6L4L7L5L4L8L9L5', 'L4L3L2L2L4L9L2L5L2L2', 'L2L7L2L2L7L0L3L0L6L1', 'L1L4L0L6L6L9L5L3L4L4', 'L4L3L3L2L0L4L5L0L6L1', 'L4L1L5L5L8L6L6L7L5L6', 'L2L2L9L1L3L2L2L1L1L3', 'L2L0L4L4L6L4L6L8L1L7', 'L9L0L0L1L9L9L6L5L2L4', 'L6L9L3L1L8L6L4L6L9L2', 'L6L9L0L5L2L7L1L8L6L1', 'L3L0L4L1L2L1L4L8L5L3', 'L5L2L0L0L6L0L8L5L2L3', 'L0L5L2L0L1L3L4L4L8L3', 'L7L4L8L7L0L8L4L0L4L0', 'L4L7L3L3L0L9L9L7L9L7', 'L8L8L1L0L6L7L8L9L9L3', 'L4L2L2L7L0L9L0L2L9L3', 'L6L7L0L7L2L6L2L3L7L0', 'L8L3L6L3L3L7L7L5L1L0', 'L1L5L9L5L8L4L0L1L9L1', 'L3L4L1L9L2L5L1L8L8L7', 'L3L1L5L2L6L3L5L2L5L2', 'L4L5L4L2L8L7L7L3L0L9', 'L6L5L0L1L3L6L9L3L2L6', 'L9L6L7L6L0L7L0L9L1L2', 'L1L8L1L6L8L3L6L1L4L7', 'L3L6L4L9L2L7L4L8L1L2', 'L4L7L8L6L0L7L7L1L8L6', 'L3L1L2L3L4L1L9L0L4L1', 'L3L5L6L4L7L3L4L8L5L9', 'L9L1L9L3L9L4L3L0L3L8', 'L1L3L0L7L1L8L2L8L8L8', 'L6L0L4L8L8L5L6L9L9L3', 'L8L1L1L5L3L8L9L7L6L7', 'L9L8L2L1L1L5L2L3L8L1', 'L9L1L8L0L9L6L8L6L7L5', 'L3L3L8L1L9L6L6L1L1L8', 'L9L5L9L6L0L1L0L6L2L4', 'L0L8L4L1L0L0L0L5L4L2', 'L5L7L6L1L4L8L4L6L4L9', 'L0L7L7L0L9L4L2L6L0L9', 'L8L8L7L3L8L6L6L9L0L3', 'L0L1L6L2L5L4L3L5L4L4', 'L6L5L9L6L5L5L1L3L1L6', 'L0L0L7L6L1L8L6L7L0L4', 'L0L7L2L6L9L5L8L5L4L0', 'L2L2L9L1L3L2L1L0L8L0', 'L0L1L3L5L9L8L0L1L1L2', 'L3L1L0L2L5L8L1L9L9L8', 'L4L3L7L9L4L0L4L9L9L7', 'L7L7L5L7L7L8L3L9L8L9', 'L3L7L5L6L9L4L0L3L1L7', 'L2L0L9L8L1L9L2L6L1L3', 'L8L0L1L3L4L1L1L9L6L3', 'L9L9L1L2L6L0L9L4L1L9', 'L2L5L6L9L0L9L2L2L4L0', 'L4L8L9L0L8L0L0L8L4L0', 'L1L7L6L0L0L3L5L2L8L4', 'L6L0L6L8L4L3L5L6L2L8', 'L3L5L8L0L0L0L4L8L1L4', 'L8L6L7L6L8L8L3L3L2L9', 'L5L9L2L8L4L5L1L9L2L2', 'L0L4L7L1L1L4L8L5L3L6', 'L7L1L7L9L5L5L1L0L4L5', 'L7L0L4L9L5L6L8L0L4L5', 'L8L2L2L4L6L9L4L7L8L9', 'L8L2L9L7L5L6L0L9L2L1', 'L6L1L5L5L8L8L9L3L6L1', 'L7L8L7L0L0L4L6L7L4L6', 'L4L2L8L2L4L8L2L6L1L8', 'L5L2L5L9L1L7L0L0L1L6', 'L6L0L3L0L9L3L4L0L4L2', 'L8L1L5L9L7L3L7L9L3L8', 'L5L1L2L0L1L3L6L5L8L7', 'L8L2L2L0L1L3L0L2L2L6', 'L1L2L3L9L1L8L6L7L3L2', 'L2L9L1L6L0L1L7L8L6L0', 'L1L2L9L5L1L4L4L5L4L9', 'L0L0L2L0L9L4L9L6L5L0', 'L1L0L8L7L8L5L3L6L5L5', 'L4L0L3L6L0L4L1L0L7L1', 'L6L4L5L6L7L9L8L7L9L5', 'L2L2L9L1L1L9L2L6L1L3', 'L7L9L2L6L0L8L2L8L5L2', 'L5L0L8L2L6L2L8L9L7L6', 'L2L2L9L1L3L2L2L1L9L3', 'L0L0L8L7L1L7L1L0L7L9', 'L8L1L0L6L4L3L1L0L8L0', 'L0L3L5L2L8L6L3L7L6L7', 'L5L2L8L6L6L4L5L4L6L1', 'L5L2L1L5L5L8L3L0L5L3', 'L1L7L8L1L4L4L0L2L2L8', 'L4L5L2L1L7L7L9L9L6L8', 'L0L3L0L1L2L9L7L8L3L8', 'L0L4L2L4L7L1L9L5L3L1', 'L6L6L2L4L6L9L3L8L3L4', 'L6L7L6L8L9L1L5L0L3L4', 'L6L1L3L6L4L9L7L2L3L9', 'L4L7L9L6L1L3L3L8L6L9', 'L1L5L0L2L3L3L1L5L3L0', 'L4L9L4L0L6L2L6L4L9L5', 'L3L4L5L3L0L1L3L0L9L2', 'L1L0L2L5L1L1L3L3L5L3', 'L1L5L9L5L8L4L9L6L1L3', 'L3L0L0L9L7L5L5L4L2L0', 'L6L0L3L8L1L9L2L6L4L2', 'L5L8L7L3L0L4L3L8L4L5', 'L1L7L3L3L4L4L8L9L7L9', 'L1L7L3L6L9L7L3L3L1L7', 'L2L5L3L0L8L3L7L9L6L1', 'L6L9L2L5L1L3L3L7L2L4', 'L0L3L0L4L9L7L9L5L6L8', 'L7L8L1L3L3L6L2L0L1L2', 'L0L7L8L6L4L7L7L8L5L9', 'L6L8L5L1L9L5L3L8L4L2', 'L8L3L0L1L6L5L9L5L3L7', 'L9L9L3L6L3L1L5L5L4L8', 'L4L7L4L9L7L4L7L7L8L0', 'L2L3L2L9L2L8L5L6L5L7', 'L0L7L0L4L2L5L4L9L9L9', 'L2L3L0L7L5L9L8L2L6L5', 'L7L5L8L6L4L1L9L5L8L2', 'L4L7L1L4L0L2L6L2L2L1', 'L3L6L7L5L9L9L8L8L3L1', 'L0L1L2L5L1L2L5L6L6L6', 'L3L7L1L2L1L9L9L0L8L1', 'L2L2L9L1L4L3L7L2L3L9', 'L5L9L9L9L4L4L0L1L9L8', 'L0L9L2L0L0L3L2L3L0L9', 'L9L7L1L5L3L4L6L2L5L4', 'L8L6L7L8L1L6L4L9L3L4', 'L0L8L6L9L1L2L8L6L3L5', 'L9L7L8L7L4L2L0L7L2L5', 'L9L6L0L2L2L3L6L1L2L9', 'L3L4L8L2L4L0L0L5L7L1', 'L9L8L5L9L1L2L7L2L8L5', 'L1L1L3L1L2L6L3L1L7L4', 'L1L0L1L1L1L5L4L8L6L6', 'L1L5L6L4L0L6L9L1L7L5', 'L6L8L2L9L7L3L6L3L8L3', 'L1L2L3L5L3L3L4L7L4L3', 'L6L0L1L8L4L3L5L7L8L3', 'L7L0L3L4L3L6L0L1L8L9', 'L9L8L7L0L2L9L1L8L1L4', 'L3L1L3L6L9L2L3L3L5L6', 'L7L7L3L3L0L4L8L2L6L5', 'L6L4L8L9L5L8L8L2L2L4', 'L6L0L9L1L2L0L5L9L4L2', 'L9L5L8L6L7L6L3L0L0L3', 'L8L4L0L7L3L5L4L4L5L1', 'L6L4L4L5L9L5L4L7L1L6', 'L5L3L5L4L9L1L8L4L4L2', 'L0L8L6L7L8L4L1L1L7L0', 'L5L6L3L5L0L8L6L2L2L6', 'L7L3L9L4L7L9L0L3L3L1', 'L9L6L2L7L0L2L0L1L9L1', 'L6L3L5L4L9L7L1L0L4L2', 'L3L6L5L1L4L3L2L3L2L5', 'L2L2L9L3L4L5L4L1L5L4', 'L8L8L1L2L7L9L6L3L4L8', 'L7L4L0L7L0L1L7L4L9L6', 'L8L6L5L2L6L1L8L1L9L2', 'L8L1L4L1L1L7L5L5L0L0', 'L9L6L4L3L1L2L9L3L1L9', 'L5L9L1L9L6L1L8L4L4L2', 'L8L9L4L5L5L4L5L0L8L7', 'L7L4L0L0L4L2L3L3L2L7', 'L6L8L5L4L8L2L7L1L4L0', 'L7L3L1L0L7L5L7L4L4L2', 'L0L3L4L7L9L1L7L4L9L6', 'L2L4L3L7L5L2L9L3L6L7', 'L0L7L0L6L0L3L9L6L0L9', 'L0L7L8L9L9L8L2L9L5L7', 'L2L6L5L9L1L4L2L4L1L3', 'L2L5L3L1L1L0L4L4L2L8', 'L7L8L0L8L7L8L2L3L4L5', 'L8L8L5L2L8L0L1L0L9L0', 'L7L6L5L4L4L8L8L8L5L7', 'L4L9L6L3L8L2L4L7L9L7', 'L6L2L2L5L1L8L2L7L0L0', 'L3L2L8L8L7L4L2L6L1L2', 'L5L0L4L3L8L6L9L0L0L4', 'L0L3L0L4L9L7L1L0L8L9', 'L2L2L3L4L2L2L8L9L7L6', 'L4L0L2L9L2L4L0L5L3L1', 'L2L4L7L8L8L2L3L7L3L6', 'L8L3L1L0L7L9L8L8L4L3', 'L4L5L6L2L8L1L2L2L9L4', 'L3L3L0L4L8L2L9L0L6L9', 'L0L9L7L8L2L0L8L0L0L3', 'L5L1L2L2L0L8L4L0L0L9', 'L2L7L3L0L1L9L7L0L2L3', 'L4L5L3L2L4L4L7L6L0L6', 'L1L0L9L5L8L4L9L5L6L8', 'L9L6L9L5L0L4L6L8L0L7', 'L3L5L3L7L7L0L3L7L4L8', 'L7L0L7L8L5L4L4L5L9L8', 'L1L4L0L0L9L3L1L5L2L6', 'L3L9L7L7L2L0L7L7L8L9', 'L2L0L6L9L8L0L4L4L7L7', 'L5L5L7L3L4L3L6L0L1L7', 'L9L4L4L5L6L5L5L5L0L1', 'L3L5L8L4L6L9L6L8L0L5', 'L3L5L4L9L8L0L8L2L8L5', 'L9L3L0L1L5L3L7L3L2L0', 'L3L6L4L9L9L2L2L3L1L1', 'L0L2L2L0L1L9L8L3L1L9', 'L2L8L9L7L7L6L5L3L7L4', 'L4L7L7L2L1L4L8L2L8L2', 'L8L0L1L8L4L4L0L1L2L8', 'L6L4L8L2L5L0L7L9L4L4', 'L0L3L0L4L4L3L7L2L3L9', 'L4L0L8L9L6L8L7L7L6L7', 'L5L8L3L1L8L4L4L5L3L5', 'L7L6L9L7L4L3L3L9L2L3', 'L1L4L1L5L0L7L0L9L3L5', 'L6L4L7L8L9L5L0L5L8L1', 'L2L5L5L2L8L2L5L4L6L2', 'L0L7L1L5L4L2L2L2L7L1', 'L7L0L0L4L9L6L6L5L9L9', 'L9L8L4L4L5L7L7L4L7L3', 'L6L0L1L7L2L2L4L0L7L2', 'L6L3L8L2L6L6L7L1L6L9', 'L6L4L1L3L5L3L2L4L7L2', 'L9L1L6L8L3L9L7L6L0L0', 'L8L9L1L4L2L3L5L5L4L3', 'L9L0L8L6L1L5L0L1L4L1', 'L6L2L3L8L1L9L2L6L1L3', 'L7L4L5L1L2L7L8L8L8L8', 'L4L7L2L2L0L2L6L4L2L0', 'L1L5L4L6L4L3L3L6L5L5', 'L4L7L7L3L8L3L7L3L1L5', 'L4L2L9L7L6L4L5L1L5L0', 'L1L3L3L1L0L7L7L7L5L8', 'L3L0L8L9L0L8L9L9L8L8', 'L8L2L0L2L0L5L2L8L1L0', 'L1L5L5L2L5L9L9L6L9L9', 'L5L5L1L9L7L2L2L0L7L0', 'L3L4L1L2L8L6L0L0L2L2', 'L9L9L6L0L9L3L1L0L9L5', 'L8L0L5L1L6L1L6L3L9L7', 'L0L6L7L7L9L9L9L7L0L6', 'L5L6L1L7L6L1L9L7L0L8', 'L2L0L3L5L6L7L5L5L9L8', 'L1L4L9L0L9L4L4L5L3L1', 'L7L1L9L8L6L9L3L2L1L2', 'L4L0L4L3L3L1L2L4L4L6', 'L0L7L0L6L7L6L1L0L3L2', 'L2L5L9L9L2L3L9L5L1L4', 'L3L2L1L9L2L0L4L1L0L2', 'L2L4L9L0L7L9L7L8L6L8', 'L9L7L3L6L6L9L0L0L0L4', 'L8L4L2L0L5L9L9L2L9L1', 'L5L4L6L0L8L3L2L0L2L0', 'L3L2L9L4L6L8L2L4L7L0', 'L9L2L0L1L0L5L4L4L4L0', 'L6L3L3L4L9L9L1L0L8L0', 'L5L3L5L4L9L1L1L0L8L0', 'L2L0L8L6L8L2L6L2L8L6', 'L7L6L1L2L9L0L1L4L8L5', 'L1L1L8L1L0L0L5L7L1L6', 'L6L7L4L6L1L7L5L9L7L5', 'L6L8L5L1L5L5L8L4L0L7', 'L0L6L8L6L5L3L3L7L8L7', 'L7L5L7L4L5L9L4L7L4L1', 'L2L0L8L0L1L5L4L1L4L8', 'L8L1L8L6L4L3L0L1L9L1', 'L2L5L5L6L7L7L9L5L5L6', 'L8L4L8L9L6L5L8L3L2L6', 'L5L6L3L8L5L3L1L1L1L5', 'L1L7L9L5L8L4L8L8L6L7', 'L8L6L1L9L9L0L4L6L6L8', 'L0L6L1L3L6L4L4L1L4L6', 'L8L9L0L4L0L6L4L9L7L8', 'L2L7L9L8L0L5L1L5L3L5', 'L2L2L8L0L8L6L4L9L8L4', 'L1L0L1L5L8L4L9L5L6L8', 'L7L7L6L1L6L9L6L8L7L1', 'L0L0L1L7L5L2L7L4L6L0', 'L3L3L4L4L8L3L9L7L9L1', 'L4L1L5L0L1L2L0L1L8L1', 'L8L6L1L5L0L1L1L6L8L9', 'L2L7L9L8L7L0L8L8L0L5', 'L1L4L5L8L6L1L9L0L5L2', 'L5L1L1L9L3L6L8L8L2L7', 'L6L1L7L4L7L5L6L7L1L1', 'L6L0L8L7L4L9L7L0L2L4', 'L6L9L8L5L1L6L4L6L0L8', 'L2L6L5L3L0L4L7L9L6L6', 'L1L5L1L2L9L9L3L0L5L6', 'L8L7L7L5L6L0L6L5L6L5', 'L8L5L6L4L5L4L6L7L5L4', 'L2L2L2L1L3L2L0L1L5L7', 'L1L7L8L9L0L5L3L3L4L9', 'L0L2L0L3L8L4L9L4L0L0', 'L0L0L8L5L8L4L1L8L8L7', 'L9L1L4L3L7L4L7L6L7L0', 'L4L1L2L7L3L8L4L7L8L6', 'L0L2L7L5L0L0L1L8L4L3', 'L2L2L9L1L8L4L9L5L6L8', 'L5L7L0L1L3L8L6L9L1L5', 'L8L0L3L6L5L0L1L3L6L0', 'L8L0L0L0L7L0L6L0L6L1', 'L9L6L9L7L5L9L9L0L9L7', 'L6L9L1L5L3L6L5L2L9L2', 'L6L5L2L9L2L7L0L6L3L8', 'L0L6L4L8L1L8L8L6L0L5', 'L5L5L0L6L8L2L8L6L9L7', 'L0L2L4L7L1L0L2L9L1L1', 'L2L3L0L1L7L4L6L5L2L8', 'L0L2L4L1L1L0L4L6L6L6', 'L0L6L3L7L7L5L8L0L6L0', 'L0L8L5L6L9L1L0L0L4L1', 'L1L1L9L0L8L5L3L3L3L5', 'L8L1L8L6L2L8L3L3L2L5', 'L0L7L5L6L5L5L3L2L6L8', 'L6L1L5L1L0L1L0L0L1L0', 'L3L1L8L1L9L4L9L6L3L3', 'L6L3L3L4L9L9L1L0L1L0', 'L3L6L0L0L4L7L9L7L1L8', 'L8L9L5L0L7L6L7L6L7L8', 'L3L5L9L0L9L7L5L5L8L1', 'L7L5L0L0L0L6L8L0L1L5', 'L5L9L3L3L2L7L1L2L4L4', 'L7L9L3L6L3L4L1L1L3L5', 'L4L6L5L6L8L6L4L2L5L7', 'L7L5L8L0L6L9L2L5L1L7', 'L9L1L6L4L7L4L1L2L7L6', 'L8L3L0L7L7L6L4L1L8L2', 'L2L5L6L9L1L3L2L6L1L8', 'L5L7L4L9L7L6L3L0L1L9', 'L7L3L9L2L3L4L7L1L2L3', 'L4L9L2L7L5L6L2L4L7L6', 'L1L4L0L7L2L0L6L1L0L6', 'L6L9L8L5L4L5L0L3L5L6', 'L2L9L7L2L0L3L4L0L5L2', 'L0L5L1L0L5L3L2L2L1L3', 'L7L1L4L8L4L4L1L9L6L0', 'L3L8L4L5L1L0L8L3L5L3', 'L2L5L8L3L9L2L3L1L2L5', 'L3L8L5L0L5L1L1L6L5L8', 'L7L8L6L3L7L0L3L8L8L6', 'L7L4L2L2L7L3L2L6L8L5', 'L4L7L1L6L5L5L2L9L3L3', 'L4L9L7L3L7L7L8L1L5L2', 'L3L4L6L6L6L8L8L4L8L6', 'L6L8L5L1L4L7L5L0L9L9', 'L9L7L5L6L7L8L2L8L2L2', 'L8L5L4L2L9L9L1L6L6L2', 'L8L0L5L5L5L7L4L3L3L5', 'L4L7L1L2L0L3L6L4L3L3', 'L4L0L4L5L2L2L7L1L9L7', 'L4L9L3L1L5L1L6L7L9L8', 'L1L1L0L5L3L1L6L6L0L5', 'L5L4L9L6L5L6L2L1L5L2', 'L0L3L0L1L6L1L9L2L3L8', 'L2L3L8L2L6L9L6L9L0L4', 'L0L5L2L0L0L5L0L8L6L3', 'L2L2L9L8L1L9L2L6L1L3']\n",
      "[138, 102, 78, 83, 57, 59, 55, 46, 40, 23, 19, 19, 14, 18, 0, 2, 0, 4, 0, 0, 2, 1, 1, 1, 0, 1, 0, 0, 0, 0, 0, 0, 0, 8, 0, 2, 0, 0, 0, 0, 4, 1, 0, 1, 0, 0, 0, 0, 0, 4, 0, 6, 0, 0, 7, 0, 1, 0, 0, 1, 0, 5, 0, 0, 0, 0, 0, 0, 0, 0, 0, 0, 0, 0, 2, 0, 1, 1, 0, 0, 0, 0, 1, 0, 0, 0, 0, 3, 0, 0, 0, 4, 2, 0, 0, 0, 0, 6, 0, 0, 5, 0, 1, 0, 0, 0, 0, 1, 0, 1, 1, 0, 0, 0, 3, 0, 0, 1, 0, 2, 2, 0, 0, 0, 0, 1, 0, 0, 0, 0, 1, 0, 0, 0, 0, 0, 1, 0, 0, 0, 0, 0, 1, 4, 0, 0, 0, 0, 0, 1, 0, 0, 0, 0, 0, 0, 0, 0, 1, 0, 2, 1, 0, 0, 0, 4, 0, 6, 0, 0, 0, 0, 0, 2, 0, 0, 1, 0, 0, 0, 0, 0, 0, 5, 0, 0, 1, 0, 0, 0, 0, 0, 0, 0, 0, 0, 0, 0, 0, 0, 0, 2, 0, 0, 0, 0, 0, 0, 0, 0, 0, 0, 0, 0, 0, 0, 0, 0, 0, 0, 0, 0, 0, 0, 2, 0, 0, 0, 0, 0, 2, 0, 0, 0, 0, 2, 0, 0, 0, 0, 0, 0, 0, 0, 0, 0, 0, 0, 0, 1, 0, 0, 0, 0, 0, 0, 0, 0, 0, 0, 0, 0, 6, 0, 0, 0, 0, 0, 0, 0, 0, 0, 0, 0, 0, 0, 2, 0, 0, 0, 0, 1, 0, 0, 0, 0, 0, 0, 0, 0, 0, 0, 0, 0, 0, 0, 0, 0, 0, 1, 0, 0, 0, 0, 0, 0, 0, 0, 0, 0, 1, 0, 0, 2, 0, 0, 1, 1, 0, 0, 3, 0, 0, 0, 0, 0, 0, 0, 0, 0, 3, 0, 0, 0, 2, 1, 0, 0, 0, 0, 0, 0, 0, 0, 1, 0, 0, 1, 0, 0, 0, 0, 0, 0, 0, 2, 1, 0, 0, 1, 0, 0, 0, 0, 0, 0, 0, 0, 0, 0, 0, 0, 0, 0, 0, 3, 0, 1, 0, 0, 0, 0, 0, 1, 0, 0, 0, 0, 0, 0, 0, 1, 0, 0, 0, 0, 0, 0, 0, 2, 0, 0, 0, 0, 0, 0, 0, 0, 0, 0, 0, 0, 0, 0, 0, 3, 0, 0, 2, 1, 0, 0, 0, 0, 0, 0, 0, 1, 0, 1, 0, 0, 1, 0, 0, 0, 0, 0, 1, 0, 0, 0, 0, 0, 0, 1, 0, 0, 0, 0, 1, 0, 1, 1, 0, 1, 0, 0, 0, 0, 0, 0, 0, 1, 0, 0, 0, 0, 0, 1, 0, 0, 0, 0, 0, 0, 0, 0, 0, 0, 0, 0, 0, 0, 0, 0, 0, 1, 0, 0, 0, 1, 0, 0, 0, 0, 0, 1, 0, 1, 0, 0, 0, 0, 0, 0, 0, 0, 0, 0, 0, 0, 0, 0, 0, 0, 0, 1, 1, 0, 0, 0, 0, 0, 0, 0, 0, 0, 0, 0, 0, 0, 0, 0, 0, 0, 0, 0, 2, 0, 0, 0, 0, 0, 0, 0, 0, 1, 2, 0, 0, 0, 1, 0, 0, 0, 1, 0, 0, 0, 0, 0, 0, 0, 0, 0, 0, 0, 0, 0, 0, 1, 0, 1, 0, 0, 0, 0, 0, 0, 0, 0, 0, 0, 0, 0, 0, 0, 0, 0, 2, 0, 1, 0, 2, 0, 0, 0, 0, 0, 0, 0, 0, 0, 0, 0, 0, 0, 0, 1, 0, 0, 0, 0, 0, 0, 0, 0, 1, 0, 0, 0, 0, 0, 0, 0, 0, 0, 0, 0, 0, 0, 0, 0, 0, 0, 0, 0, 1, 2, 0, 0, 0, 0, 0, 0, 1, 0, 0, 0, 0, 0, 0, 0, 0, 0, 0, 0, 0, 0, 2, 0, 0, 0, 0, 0, 0, 0, 0, 0, 0, 0, 0, 0, 0, 0, 0, 0, 0, 0, 0, 0, 0, 0, 0, 0, 0, 1, 0, 0, 0, 0, 0, 2, 0, 0, 0, 0, 0, 0, 0, 0, 0, 0, 0, 0, 0, 0, 0, 0, 0, 0, 0, 0, 0, 0, 0, 0, 0, 0, 0, 0, 0, 1, 0, 0, 2, 0, 1, 0, 0, 0, 0, 0, 0, 0, 0, 0, 1, 0, 0, 0, 0, 0, 1, 0, 1, 0, 0, 0, 0, 0, 1, 0, 0, 0, 0, 0, 0, 0, 0, 0, 0, 0, 0, 0, 0, 1, 0, 0, 0, 0, 0, 0, 0, 0, 0, 0, 0, 0, 0, 0, 0, 0, 0, 0, 0, 0, 0, 0, 0, 0, 1, 0, 0, 0, 1, 1, 0, 0, 0, 0, 0, 0, 0, 1, 0, 0, 0, 0, 0, 0, 0, 0, 0, 0, 0, 0, 0, 0, 0, 0, 0, 1, 0, 0, 0, 0, 0, 0, 0, 0, 0, 0, 1, 0, 0, 0, 0, 0, 0, 0, 0, 0, 0, 0, 0, 0, 0, 0, 0, 0, 1, 0, 0, 0, 0, 0, 0, 0, 0, 0, 0, 0, 0, 0, 0, 0, 2, 0, 0, 0, 0, 0, 0, 0, 0, 0, 0, 0, 0, 0, 0, 0, 0, 0, 0, 0, 0, 0, 0, 0, 0, 0, 0, 0, 0, 5, 1, 0, 0, 0, 0, 0, 0, 0, 0, 1, 0, 0, 0, 0, 0, 0, 0, 0, 0, 2, 0, 0, 0, 0, 0, 0, 0, 0, 0, 0, 0, 0, 0, 0, 0, 1, 0, 0, 0, 0, 0, 0, 1, 0, 0, 0, 0, 0, 0, 0, 0, 0, 0, 0, 0, 0, 0, 1, 0, 0, 0, 2, 0, 0, 0, 0, 0, 0, 0, 0, 0, 0, 0, 0, 0, 0, 0, 0, 0, 0, 0, 0, 0, 0, 0, 0, 0, 0, 0, 0, 0, 0, 0, 0, 0, 0, 0, 0, 0, 0, 0, 1]\n"
     ]
    }
   ],
   "source": [
    "i = 0\n",
    "newpathsdict2 = copy.deepcopy(newpathsdict);\n",
    "for key, value in newpathsdict.items():\n",
    "    newpathsdict[key] = noisecounts[i]\n",
    "    i = i + 1\n",
    "\n",
    "valueslist = sorted(list(newpathsdict.values()), reverse=True)\n",
    "#newpathslist是按噪声计数排序后的泛化轨迹\n",
    "newpathslist = list_sort_by_value(newpathsdict)\n",
    "print(newpathslist)\n",
    "\n",
    "#按噪声计数排序对truecount排序\n",
    "truecounts = []\n",
    "for item in newpathslist:\n",
    "    truecounts.append(newpathsdict2.get(item))\n",
    "print(truecounts)\n",
    "\n"
   ],
   "metadata": {
    "collapsed": false,
    "pycharm": {
     "name": "#%%\n"
    }
   }
  },
  {
   "cell_type": "code",
   "execution_count": null,
   "outputs": [],
   "source": [
    "\n"
   ],
   "metadata": {
    "collapsed": false,
    "pycharm": {
     "name": "#%%\n"
    }
   }
  }
 ],
 "metadata": {
  "kernelspec": {
   "display_name": "Python 3",
   "language": "python",
   "name": "python3"
  },
  "language_info": {
   "codemirror_mode": {
    "name": "ipython",
    "version": 2
   },
   "file_extension": ".py",
   "mimetype": "text/x-python",
   "name": "python",
   "nbconvert_exporter": "python",
   "pygments_lexer": "ipython2",
   "version": "2.7.6"
  }
 },
 "nbformat": 4,
 "nbformat_minor": 0
}