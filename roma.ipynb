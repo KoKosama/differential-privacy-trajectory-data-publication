{
 "cells": [
  {
   "cell_type": "code",
   "execution_count": 2,
   "metadata": {
    "collapsed": true
   },
   "outputs": [],
   "source": [
    "import pandas as pd\n",
    "import time\n",
    "from datetime import datetime\n",
    "import numpy as np\n",
    "import math\n",
    "from math import *\n",
    "import datetime as dt\n",
    "# from sklearn.cluster import DBSCAN\n",
    "import warnings\n",
    "warnings.filterwarnings('ignore')\n",
    "\n"
   ]
  },
  {
   "cell_type": "code",
   "execution_count": 3,
   "outputs": [
    {
     "data": {
      "text/plain": "   taxi_id  data_time_sec        lat        lon\n0        2              0  41.897877  12.468667\n1        2             10  41.898744  12.467413\n2        2             29  41.899280  12.466830\n3        2             36  41.899377  12.466780\n4        2             48  41.899507  12.466640",
      "text/html": "<div>\n<style scoped>\n    .dataframe tbody tr th:only-of-type {\n        vertical-align: middle;\n    }\n\n    .dataframe tbody tr th {\n        vertical-align: top;\n    }\n\n    .dataframe thead th {\n        text-align: right;\n    }\n</style>\n<table border=\"1\" class=\"dataframe\">\n  <thead>\n    <tr style=\"text-align: right;\">\n      <th></th>\n      <th>taxi_id</th>\n      <th>data_time_sec</th>\n      <th>lat</th>\n      <th>lon</th>\n    </tr>\n  </thead>\n  <tbody>\n    <tr>\n      <th>0</th>\n      <td>2</td>\n      <td>0</td>\n      <td>41.897877</td>\n      <td>12.468667</td>\n    </tr>\n    <tr>\n      <th>1</th>\n      <td>2</td>\n      <td>10</td>\n      <td>41.898744</td>\n      <td>12.467413</td>\n    </tr>\n    <tr>\n      <th>2</th>\n      <td>2</td>\n      <td>29</td>\n      <td>41.899280</td>\n      <td>12.466830</td>\n    </tr>\n    <tr>\n      <th>3</th>\n      <td>2</td>\n      <td>36</td>\n      <td>41.899377</td>\n      <td>12.466780</td>\n    </tr>\n    <tr>\n      <th>4</th>\n      <td>2</td>\n      <td>48</td>\n      <td>41.899507</td>\n      <td>12.466640</td>\n    </tr>\n  </tbody>\n</table>\n</div>"
     },
     "execution_count": 3,
     "metadata": {},
     "output_type": "execute_result"
    }
   ],
   "source": [
    "## 导入数据 ##\n",
    "f = open('E:/PyCharm/PycharmProjects/TTE/csvafterfilter/romaafterfilter.csv')\n",
    "df_test = pd.read_csv(f, dtype = {'taxi_id' : np.uint16, 'week' :np.int8, 'mday' : np.uint8, 'data_time_sec' : np.uint32, 'time_id' : np.uint16, 'lat' : np.float64, 'lon' : np.float64})\n",
    "df_test = df_test[(df_test['mday'].isin([81]))]\n",
    "df_test['lat_interval'] = df_test['lat'] - df_test['lat'].shift(-1)\n",
    "df_test['lon_interval'] = df_test['lon'] - df_test['lon'].shift(-1)\n",
    "df_test = df_test[~(df_test['lat_interval'].isin([0])&df_test['lon_interval'].isin([0]))]\n",
    "df_test = df_test.reset_index(drop = True)\n",
    "del df_test['lat_interval']\n",
    "del df_test['lon_interval']\n",
    "del df_test['week']\n",
    "del df_test['mday']\n",
    "del df_test['time_id']\n",
    "df_test.head()"
   ],
   "metadata": {
    "collapsed": false,
    "pycharm": {
     "name": "#%%\n"
    }
   }
  },
  {
   "cell_type": "code",
   "execution_count": 20,
   "outputs": [
    {
     "data": {
      "text/plain": "241    5662\n21     5399\n135    5232\n8      5182\n238    5143\n29     5132\n203    5097\n196    4977\n266    4960\n253    4943\n143    4942\n186    4905\n223    4884\n194    4859\n295    4857\n352    4839\n222    4835\n115    4768\n252    4767\n183    4743\n4      4739\n347    4725\n37     4715\n48     4698\n288    4693\n192    4679\n74     4639\n157    4609\n111    4607\n220    4601\n       ... \n155    2319\n258    2289\n128    2280\n246    2269\n367    2200\n349    2141\n39     2114\n256    2073\n73     2011\n174    1865\n262    1864\n144    1863\n313    1704\n335    1692\n372    1553\n325    1541\n99     1507\n303    1492\n285    1480\n175    1456\n199    1405\n363    1242\n67     1224\n274    1092\n123     940\n281     551\n324     533\n59      495\n312     177\n122       7\nName: taxi_id, Length: 287, dtype: int64"
     },
     "execution_count": 20,
     "metadata": {},
     "output_type": "execute_result"
    }
   ],
   "source": [
    "df_test['taxi_id'].value_counts()\n",
    "\n"
   ],
   "metadata": {
    "collapsed": false,
    "pycharm": {
     "name": "#%%\n"
    }
   }
  },
  {
   "cell_type": "code",
   "execution_count": 21,
   "outputs": [
    {
     "data": {
      "text/plain": "46712    219\n48949    219\n35748    207\n45489    206\n47046    204\n39381    202\n51888    200\n43996    193\n39302    193\n47690    193\n45924    192\n35707    191\n67885    189\n46106    186\n46030    185\n30330    183\n38973    183\n46070    182\n50780    179\n51662    178\n46485    178\n35350    178\n49015    178\n44033    177\n50202    176\n35643    176\n32373    176\n50709    175\n63258    174\n42103    174\n        ... \n12559      1\n8461       1\n8972       1\n13845      1\n11021      1\n15119      1\n19576      1\n4806       1\n5506       1\n13431      1\n12994      1\n58824      1\n11380      1\n18461      1\n18825      1\n10257      1\n5590       1\n16588      1\n61282      1\n59156      1\n12349      1\n8384       1\n13689      1\n19830      1\n6410       1\n13177      1\n8657       1\n14802      1\n10508      1\n10650      1\nName: data_time_sec, Length: 78798, dtype: int64"
     },
     "execution_count": 21,
     "metadata": {},
     "output_type": "execute_result"
    }
   ],
   "source": [
    "df_test['data_time_sec'].value_counts()"
   ],
   "metadata": {
    "collapsed": false,
    "pycharm": {
     "name": "#%%\n"
    }
   }
  },
  {
   "cell_type": "code",
   "execution_count": 4,
   "outputs": [],
   "source": [
    "d=df_test['data_time_sec'].hist().get_figure()\n",
    "d.savefig('2.jpg')"
   ],
   "metadata": {
    "collapsed": false,
    "pycharm": {
     "name": "#%%\n"
    }
   }
  },
  {
   "cell_type": "code",
   "execution_count": 5,
   "outputs": [
    {
     "data": {
      "text/plain": "<Figure size 432x288 with 1 Axes>",
      "image/png": "[encoded data removed]"
     },
     "metadata": {
      "needs_background": "light"
     },
     "output_type": "display_data"
    }
   ],
   "source": [
    "d=df_test['taxi_id'].hist().get_figure()\n",
    "d.savefig('1.jpg')"
   ],
   "metadata": {
    "collapsed": false,
    "pycharm": {
     "name": "#%%\n"
    }
   }
  },
  {
   "cell_type": "code",
   "execution_count": 6,
   "outputs": [
    {
     "name": "stdout",
     "output_type": "stream",
     "text": [
      "(638167, 4)\n"
     ]
    }
   ],
   "source": [
    "df = df_test.values\n",
    "print(df.shape)"
   ],
   "metadata": {
    "collapsed": false,
    "pycharm": {
     "name": "#%%\n"
    }
   }
  },
  {
   "cell_type": "code",
   "execution_count": 7,
   "outputs": [
    {
     "name": "stdout",
     "output_type": "stream",
     "text": [
      "[[[  0.           0.          41.90485141  12.4834031 ]\n",
      "  [  0.           1.          41.90497925  12.48309677]\n",
      "  [  0.           2.          41.90509498  12.48273211]\n",
      "  ...\n",
      "  [  0.          17.          41.90447185  12.47866265]\n",
      "  [  0.          18.          41.90425373  12.47808844]\n",
      "  [  0.          19.          41.9041214   12.47778205]]\n",
      "\n",
      " [[  1.           0.          41.88454371  12.48926195]\n",
      "  [  1.           1.          41.88492163  12.48943332]\n",
      "  [  1.           2.          41.88593178  12.48962965]\n",
      "  ...\n",
      "  [  1.          17.          41.89032182  12.49413452]\n",
      "  [  1.          18.          41.89050037  12.4942782 ]\n",
      "  [  1.          19.          41.8905835   12.49457133]]\n",
      "\n",
      " [[  2.           0.          41.83924414  12.46213661]\n",
      "  [  2.           1.          41.83986816  12.46296067]\n",
      "  [  2.           2.          41.84071536  12.46431412]\n",
      "  ...\n",
      "  [  2.          17.          41.85040644  12.47529196]\n",
      "  [  2.          18.          41.85098317  12.47565174]\n",
      "  [  2.          19.          41.8513569   12.47600057]]\n",
      "\n",
      " ...\n",
      "\n",
      " [[997.           0.          41.91555452  12.46373639]\n",
      "  [997.           1.          41.91557197  12.4637033 ]\n",
      "  [997.           2.          41.9155665   12.46367808]\n",
      "  ...\n",
      "  [997.          17.          41.91511013  12.46626088]\n",
      "  [997.          18.          41.91499893  12.46653931]\n",
      "  [997.          19.          41.9148452   12.46704153]]\n",
      "\n",
      " [[998.           0.          41.90253413  12.47668994]\n",
      "  [998.           1.          41.90246632  12.47642291]\n",
      "  [998.           2.          41.90247783  12.47606395]\n",
      "  ...\n",
      "  [998.          17.          41.90037173  12.47301718]\n",
      "  [998.          18.          41.90047378  12.47298895]\n",
      "  [998.          19.          41.90039921  12.47301761]]\n",
      "\n",
      " [[999.           0.          41.90978703  12.52788723]\n",
      "  [999.           1.          41.90978444  12.52788628]\n",
      "  [999.           2.          41.90978894  12.52789488]\n",
      "  ...\n",
      "  [999.          17.          41.90982567  12.52790171]\n",
      "  [999.          18.          41.90983909  12.52792964]\n",
      "  [999.          19.          41.909912    12.52794469]]]\n"
     ]
    }
   ],
   "source": [
    "romas = np.zeros(shape=(1000,20,4))\n",
    "dfshape = 638167 - 20\n",
    "for i in range(1000):\n",
    "    k=np.random.randint(0, high=dfshape, size=None, dtype='l')\n",
    "    for j in range(k, k+20):\n",
    "        romas[i][j-k] = df[j]\n",
    "        romas[i][j-k][0] = i\n",
    "        romas[i][j-k][1] = j-k\n",
    "        # if df[j+1][0]!=df[j][0]:\n",
    "\n",
    "print(romas)\n"
   ],
   "metadata": {
    "collapsed": false,
    "pycharm": {
     "name": "#%%\n"
    }
   }
  },
  {
   "cell_type": "code",
   "execution_count": null,
   "outputs": [],
   "source": [
    "\n"
   ],
   "metadata": {
    "collapsed": false,
    "pycharm": {
     "name": "#%%\n"
    }
   }
  }
 ],
 "metadata": {
  "kernelspec": {
   "display_name": "Python 3",
   "language": "python",
   "name": "python3"
  },
  "language_info": {
   "codemirror_mode": {
    "name": "ipython",
    "version": 2
   },
   "file_extension": ".py",
   "mimetype": "text/x-python",
   "name": "python",
   "nbconvert_exporter": "python",
   "pygments_lexer": "ipython2",
   "version": "2.7.6"
  }
 },
 "nbformat": 4,
 "nbformat_minor": 0
}